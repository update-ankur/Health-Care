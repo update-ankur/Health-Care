{
  "nbformat": 4,
  "nbformat_minor": 0,
  "metadata": {
    "colab": {
      "name": "Health Care.ipynb",
      "provenance": [],
      "collapsed_sections": []
    },
    "kernelspec": {
      "name": "python3",
      "display_name": "Python 3"
    }
  },
  "cells": [
    {
      "cell_type": "code",
      "metadata": {
        "colab": {
          "base_uri": "https://localhost:8080/"
        },
        "id": "Xc6J3WS6eJO5",
        "outputId": "b2bf3b69-da6e-4886-d671-d7527b4a741d"
      },
      "source": [
        "!pip install catboost"
      ],
      "execution_count": 1,
      "outputs": [
        {
          "output_type": "stream",
          "text": [
            "Requirement already satisfied: catboost in /usr/local/lib/python3.7/dist-packages (0.24.4)\n",
            "Requirement already satisfied: graphviz in /usr/local/lib/python3.7/dist-packages (from catboost) (0.10.1)\n",
            "Requirement already satisfied: matplotlib in /usr/local/lib/python3.7/dist-packages (from catboost) (3.2.2)\n",
            "Requirement already satisfied: pandas>=0.24.0 in /usr/local/lib/python3.7/dist-packages (from catboost) (1.1.5)\n",
            "Requirement already satisfied: scipy in /usr/local/lib/python3.7/dist-packages (from catboost) (1.4.1)\n",
            "Requirement already satisfied: numpy>=1.16.0 in /usr/local/lib/python3.7/dist-packages (from catboost) (1.19.5)\n",
            "Requirement already satisfied: plotly in /usr/local/lib/python3.7/dist-packages (from catboost) (4.4.1)\n",
            "Requirement already satisfied: six in /usr/local/lib/python3.7/dist-packages (from catboost) (1.15.0)\n",
            "Requirement already satisfied: python-dateutil>=2.1 in /usr/local/lib/python3.7/dist-packages (from matplotlib->catboost) (2.8.1)\n",
            "Requirement already satisfied: cycler>=0.10 in /usr/local/lib/python3.7/dist-packages (from matplotlib->catboost) (0.10.0)\n",
            "Requirement already satisfied: pyparsing!=2.0.4,!=2.1.2,!=2.1.6,>=2.0.1 in /usr/local/lib/python3.7/dist-packages (from matplotlib->catboost) (2.4.7)\n",
            "Requirement already satisfied: kiwisolver>=1.0.1 in /usr/local/lib/python3.7/dist-packages (from matplotlib->catboost) (1.3.1)\n",
            "Requirement already satisfied: pytz>=2017.2 in /usr/local/lib/python3.7/dist-packages (from pandas>=0.24.0->catboost) (2018.9)\n",
            "Requirement already satisfied: retrying>=1.3.3 in /usr/local/lib/python3.7/dist-packages (from plotly->catboost) (1.3.3)\n"
          ],
          "name": "stdout"
        }
      ]
    },
    {
      "cell_type": "code",
      "metadata": {
        "id": "w5O_XHRbdhGV"
      },
      "source": [
        "import pandas as pd\n",
        "import numpy as np\n",
        "import matplotlib.pyplot as plt\n",
        "import seaborn as sns\n",
        "\n",
        "from sklearn.model_selection import train_test_split\n",
        "from sklearn.metrics import confusion_matrix\n",
        "from sklearn.model_selection import cross_val_score\n",
        "from sklearn.model_selection import GridSearchCV\n",
        "from sklearn.model_selection import KFold, StratifiedKFold, ShuffleSplit, RepeatedStratifiedKFold\n",
        "from sklearn.preprocessing import StandardScaler\n",
        "from sklearn.pipeline import make_pipeline\n",
        "from sklearn.svm import SVC\n",
        "from sklearn.metrics import plot_precision_recall_curve\n",
        "from sklearn.metrics import plot_roc_curve\n",
        "\n",
        "from sklearn.linear_model import LogisticRegression\n",
        "from sklearn.naive_bayes import GaussianNB\n",
        "from xgboost import XGBClassifier\n",
        "from lightgbm import LGBMClassifier\n",
        "from sklearn.tree import DecisionTreeClassifier\n",
        "from xgboost import XGBClassifier\n",
        "from catboost import CatBoostClassifier\n",
        "from sklearn.neighbors import KNeighborsClassifier\n"
      ],
      "execution_count": 2,
      "outputs": []
    },
    {
      "cell_type": "code",
      "metadata": {
        "id": "UkLeQ1dWexAx"
      },
      "source": [
        "df=pd.read_csv('/content/heart.csv')"
      ],
      "execution_count": 3,
      "outputs": []
    },
    {
      "cell_type": "code",
      "metadata": {
        "colab": {
          "base_uri": "https://localhost:8080/",
          "height": 191
        },
        "id": "Z0YIODBke2b-",
        "outputId": "e58b637d-d8c2-4a4f-ced0-f720fa045fb2"
      },
      "source": [
        "df.head(5)"
      ],
      "execution_count": 4,
      "outputs": [
        {
          "output_type": "execute_result",
          "data": {
            "text/html": [
              "<div>\n",
              "<style scoped>\n",
              "    .dataframe tbody tr th:only-of-type {\n",
              "        vertical-align: middle;\n",
              "    }\n",
              "\n",
              "    .dataframe tbody tr th {\n",
              "        vertical-align: top;\n",
              "    }\n",
              "\n",
              "    .dataframe thead th {\n",
              "        text-align: right;\n",
              "    }\n",
              "</style>\n",
              "<table border=\"1\" class=\"dataframe\">\n",
              "  <thead>\n",
              "    <tr style=\"text-align: right;\">\n",
              "      <th></th>\n",
              "      <th>age</th>\n",
              "      <th>sex</th>\n",
              "      <th>cp</th>\n",
              "      <th>trestbps</th>\n",
              "      <th>chol</th>\n",
              "      <th>fbs</th>\n",
              "      <th>restecg</th>\n",
              "      <th>thalach</th>\n",
              "      <th>exang</th>\n",
              "      <th>oldpeak</th>\n",
              "      <th>slope</th>\n",
              "      <th>ca</th>\n",
              "      <th>thal</th>\n",
              "      <th>target</th>\n",
              "    </tr>\n",
              "  </thead>\n",
              "  <tbody>\n",
              "    <tr>\n",
              "      <th>0</th>\n",
              "      <td>63</td>\n",
              "      <td>1</td>\n",
              "      <td>3</td>\n",
              "      <td>145</td>\n",
              "      <td>233</td>\n",
              "      <td>1</td>\n",
              "      <td>0</td>\n",
              "      <td>150</td>\n",
              "      <td>0</td>\n",
              "      <td>2.3</td>\n",
              "      <td>0</td>\n",
              "      <td>0</td>\n",
              "      <td>1</td>\n",
              "      <td>1</td>\n",
              "    </tr>\n",
              "    <tr>\n",
              "      <th>1</th>\n",
              "      <td>37</td>\n",
              "      <td>1</td>\n",
              "      <td>2</td>\n",
              "      <td>130</td>\n",
              "      <td>250</td>\n",
              "      <td>0</td>\n",
              "      <td>1</td>\n",
              "      <td>187</td>\n",
              "      <td>0</td>\n",
              "      <td>3.5</td>\n",
              "      <td>0</td>\n",
              "      <td>0</td>\n",
              "      <td>2</td>\n",
              "      <td>1</td>\n",
              "    </tr>\n",
              "    <tr>\n",
              "      <th>2</th>\n",
              "      <td>41</td>\n",
              "      <td>0</td>\n",
              "      <td>1</td>\n",
              "      <td>130</td>\n",
              "      <td>204</td>\n",
              "      <td>0</td>\n",
              "      <td>0</td>\n",
              "      <td>172</td>\n",
              "      <td>0</td>\n",
              "      <td>1.4</td>\n",
              "      <td>2</td>\n",
              "      <td>0</td>\n",
              "      <td>2</td>\n",
              "      <td>1</td>\n",
              "    </tr>\n",
              "    <tr>\n",
              "      <th>3</th>\n",
              "      <td>56</td>\n",
              "      <td>1</td>\n",
              "      <td>1</td>\n",
              "      <td>120</td>\n",
              "      <td>236</td>\n",
              "      <td>0</td>\n",
              "      <td>1</td>\n",
              "      <td>178</td>\n",
              "      <td>0</td>\n",
              "      <td>0.8</td>\n",
              "      <td>2</td>\n",
              "      <td>0</td>\n",
              "      <td>2</td>\n",
              "      <td>1</td>\n",
              "    </tr>\n",
              "    <tr>\n",
              "      <th>4</th>\n",
              "      <td>57</td>\n",
              "      <td>0</td>\n",
              "      <td>0</td>\n",
              "      <td>120</td>\n",
              "      <td>354</td>\n",
              "      <td>0</td>\n",
              "      <td>1</td>\n",
              "      <td>163</td>\n",
              "      <td>1</td>\n",
              "      <td>0.6</td>\n",
              "      <td>2</td>\n",
              "      <td>0</td>\n",
              "      <td>2</td>\n",
              "      <td>1</td>\n",
              "    </tr>\n",
              "  </tbody>\n",
              "</table>\n",
              "</div>"
            ],
            "text/plain": [
              "   age  sex  cp  trestbps  chol  fbs  ...  exang  oldpeak  slope  ca  thal  target\n",
              "0   63    1   3       145   233    1  ...      0      2.3      0   0     1       1\n",
              "1   37    1   2       130   250    0  ...      0      3.5      0   0     2       1\n",
              "2   41    0   1       130   204    0  ...      0      1.4      2   0     2       1\n",
              "3   56    1   1       120   236    0  ...      0      0.8      2   0     2       1\n",
              "4   57    0   0       120   354    0  ...      1      0.6      2   0     2       1\n",
              "\n",
              "[5 rows x 14 columns]"
            ]
          },
          "metadata": {
            "tags": []
          },
          "execution_count": 4
        }
      ]
    },
    {
      "cell_type": "code",
      "metadata": {
        "colab": {
          "base_uri": "https://localhost:8080/"
        },
        "id": "6FUb82ZGe4If",
        "outputId": "ab38a931-7f4e-4611-bb1b-61cd9ed4d5d9"
      },
      "source": [
        "df.isnull().sum()"
      ],
      "execution_count": 5,
      "outputs": [
        {
          "output_type": "execute_result",
          "data": {
            "text/plain": [
              "age         0\n",
              "sex         0\n",
              "cp          0\n",
              "trestbps    0\n",
              "chol        0\n",
              "fbs         0\n",
              "restecg     0\n",
              "thalach     0\n",
              "exang       0\n",
              "oldpeak     0\n",
              "slope       0\n",
              "ca          0\n",
              "thal        0\n",
              "target      0\n",
              "dtype: int64"
            ]
          },
          "metadata": {
            "tags": []
          },
          "execution_count": 5
        }
      ]
    },
    {
      "cell_type": "markdown",
      "metadata": {
        "id": "nzfLrEtae-fI"
      },
      "source": [
        "# Let's apply different model without taking care of categorical variable"
      ]
    },
    {
      "cell_type": "code",
      "metadata": {
        "id": "-h5O9mX3fc3z"
      },
      "source": [
        "X=df.drop(['target'],axis=1)\n",
        "y=df['target']"
      ],
      "execution_count": 6,
      "outputs": []
    },
    {
      "cell_type": "code",
      "metadata": {
        "id": "q0G6uFHCe9xZ"
      },
      "source": [
        "X_train, X_test, y_train, y_test = train_test_split(X,y,stratify=y)"
      ],
      "execution_count": 7,
      "outputs": []
    },
    {
      "cell_type": "code",
      "metadata": {
        "colab": {
          "base_uri": "https://localhost:8080/"
        },
        "id": "4CYwtTYOe7RR",
        "outputId": "0e8570a0-3da8-4b5a-81c1-9a55f9bbb826"
      },
      "source": [
        "lr=LogisticRegression()\n",
        "lr.fit(X_train,y_train)\n",
        "lr.score(X_test,y_test)"
      ],
      "execution_count": 8,
      "outputs": [
        {
          "output_type": "stream",
          "text": [
            "/usr/local/lib/python3.7/dist-packages/sklearn/linear_model/_logistic.py:940: ConvergenceWarning: lbfgs failed to converge (status=1):\n",
            "STOP: TOTAL NO. of ITERATIONS REACHED LIMIT.\n",
            "\n",
            "Increase the number of iterations (max_iter) or scale the data as shown in:\n",
            "    https://scikit-learn.org/stable/modules/preprocessing.html\n",
            "Please also refer to the documentation for alternative solver options:\n",
            "    https://scikit-learn.org/stable/modules/linear_model.html#logistic-regression\n",
            "  extra_warning_msg=_LOGISTIC_SOLVER_CONVERGENCE_MSG)\n"
          ],
          "name": "stderr"
        },
        {
          "output_type": "execute_result",
          "data": {
            "text/plain": [
              "0.8289473684210527"
            ]
          },
          "metadata": {
            "tags": []
          },
          "execution_count": 8
        }
      ]
    },
    {
      "cell_type": "code",
      "metadata": {
        "colab": {
          "base_uri": "https://localhost:8080/"
        },
        "id": "t9z8w9oNfkoU",
        "outputId": "389fb501-1d4d-448e-a447-f4b8ad62c6f5"
      },
      "source": [
        "nvb=GaussianNB()\n",
        "nvb.fit(X_train,y_train)\n",
        "nvb.score(X_test,y_test)"
      ],
      "execution_count": 9,
      "outputs": [
        {
          "output_type": "execute_result",
          "data": {
            "text/plain": [
              "0.7894736842105263"
            ]
          },
          "metadata": {
            "tags": []
          },
          "execution_count": 9
        }
      ]
    },
    {
      "cell_type": "code",
      "metadata": {
        "colab": {
          "base_uri": "https://localhost:8080/"
        },
        "id": "sfFpRL19f2h4",
        "outputId": "ac689c53-de52-4103-d869-806b5275d885"
      },
      "source": [
        "catb=CatBoostClassifier()\n",
        "catb.fit(X_train,y_train)\n",
        "catb.score(X_test,y_test)"
      ],
      "execution_count": 10,
      "outputs": [
        {
          "output_type": "stream",
          "text": [
            "Learning rate set to 0.00547\n",
            "0:\tlearn: 0.6878594\ttotal: 49.9ms\tremaining: 49.9s\n",
            "1:\tlearn: 0.6838117\ttotal: 51.2ms\tremaining: 25.5s\n",
            "2:\tlearn: 0.6816077\ttotal: 52.2ms\tremaining: 17.4s\n",
            "3:\tlearn: 0.6770761\ttotal: 53.7ms\tremaining: 13.4s\n",
            "4:\tlearn: 0.6733991\ttotal: 54.8ms\tremaining: 10.9s\n",
            "5:\tlearn: 0.6686518\ttotal: 55.7ms\tremaining: 9.23s\n",
            "6:\tlearn: 0.6648078\ttotal: 56.8ms\tremaining: 8.05s\n",
            "7:\tlearn: 0.6604641\ttotal: 57.7ms\tremaining: 7.16s\n",
            "8:\tlearn: 0.6562613\ttotal: 58.8ms\tremaining: 6.47s\n",
            "9:\tlearn: 0.6519664\ttotal: 59.7ms\tremaining: 5.91s\n",
            "10:\tlearn: 0.6483111\ttotal: 60.5ms\tremaining: 5.44s\n",
            "11:\tlearn: 0.6443861\ttotal: 61.8ms\tremaining: 5.09s\n",
            "12:\tlearn: 0.6406448\ttotal: 62.9ms\tremaining: 4.78s\n",
            "13:\tlearn: 0.6365398\ttotal: 64ms\tremaining: 4.51s\n",
            "14:\tlearn: 0.6326733\ttotal: 65ms\tremaining: 4.27s\n",
            "15:\tlearn: 0.6286560\ttotal: 66ms\tremaining: 4.06s\n",
            "16:\tlearn: 0.6253108\ttotal: 67ms\tremaining: 3.87s\n",
            "17:\tlearn: 0.6214338\ttotal: 68ms\tremaining: 3.71s\n",
            "18:\tlearn: 0.6182475\ttotal: 69ms\tremaining: 3.56s\n",
            "19:\tlearn: 0.6145457\ttotal: 70ms\tremaining: 3.43s\n",
            "20:\tlearn: 0.6105033\ttotal: 70.9ms\tremaining: 3.31s\n",
            "21:\tlearn: 0.6075145\ttotal: 71.7ms\tremaining: 3.19s\n",
            "22:\tlearn: 0.6038005\ttotal: 72.7ms\tremaining: 3.09s\n",
            "23:\tlearn: 0.6003209\ttotal: 73.7ms\tremaining: 3s\n",
            "24:\tlearn: 0.5961494\ttotal: 74.7ms\tremaining: 2.91s\n",
            "25:\tlearn: 0.5922580\ttotal: 75.6ms\tremaining: 2.83s\n",
            "26:\tlearn: 0.5881792\ttotal: 76.6ms\tremaining: 2.76s\n",
            "27:\tlearn: 0.5844082\ttotal: 77.7ms\tremaining: 2.7s\n",
            "28:\tlearn: 0.5807605\ttotal: 78.7ms\tremaining: 2.63s\n",
            "29:\tlearn: 0.5773550\ttotal: 79.6ms\tremaining: 2.57s\n",
            "30:\tlearn: 0.5744202\ttotal: 80.6ms\tremaining: 2.52s\n",
            "31:\tlearn: 0.5714615\ttotal: 81.6ms\tremaining: 2.47s\n",
            "32:\tlearn: 0.5687416\ttotal: 82.6ms\tremaining: 2.42s\n",
            "33:\tlearn: 0.5671368\ttotal: 83.3ms\tremaining: 2.37s\n",
            "34:\tlearn: 0.5637928\ttotal: 84.2ms\tremaining: 2.32s\n",
            "35:\tlearn: 0.5603510\ttotal: 85.2ms\tremaining: 2.28s\n",
            "36:\tlearn: 0.5571418\ttotal: 86.2ms\tremaining: 2.24s\n",
            "37:\tlearn: 0.5554030\ttotal: 86.8ms\tremaining: 2.2s\n",
            "38:\tlearn: 0.5526043\ttotal: 87.7ms\tremaining: 2.16s\n",
            "39:\tlearn: 0.5497078\ttotal: 88.7ms\tremaining: 2.13s\n",
            "40:\tlearn: 0.5467088\ttotal: 89.7ms\tremaining: 2.1s\n",
            "41:\tlearn: 0.5440137\ttotal: 90.6ms\tremaining: 2.07s\n",
            "42:\tlearn: 0.5413195\ttotal: 91.6ms\tremaining: 2.04s\n",
            "43:\tlearn: 0.5384919\ttotal: 92.6ms\tremaining: 2.01s\n",
            "44:\tlearn: 0.5366750\ttotal: 93.5ms\tremaining: 1.98s\n",
            "45:\tlearn: 0.5337925\ttotal: 94.5ms\tremaining: 1.96s\n",
            "46:\tlearn: 0.5311884\ttotal: 95.4ms\tremaining: 1.93s\n",
            "47:\tlearn: 0.5287859\ttotal: 96.2ms\tremaining: 1.91s\n",
            "48:\tlearn: 0.5270444\ttotal: 97.2ms\tremaining: 1.89s\n",
            "49:\tlearn: 0.5243479\ttotal: 98.1ms\tremaining: 1.86s\n",
            "50:\tlearn: 0.5215035\ttotal: 99.1ms\tremaining: 1.84s\n",
            "51:\tlearn: 0.5196233\ttotal: 100ms\tremaining: 1.82s\n",
            "52:\tlearn: 0.5167496\ttotal: 101ms\tremaining: 1.8s\n",
            "53:\tlearn: 0.5142266\ttotal: 102ms\tremaining: 1.79s\n",
            "54:\tlearn: 0.5113368\ttotal: 103ms\tremaining: 1.77s\n",
            "55:\tlearn: 0.5086826\ttotal: 104ms\tremaining: 1.75s\n",
            "56:\tlearn: 0.5061583\ttotal: 105ms\tremaining: 1.74s\n",
            "57:\tlearn: 0.5040528\ttotal: 106ms\tremaining: 1.72s\n",
            "58:\tlearn: 0.5013331\ttotal: 107ms\tremaining: 1.7s\n",
            "59:\tlearn: 0.5006220\ttotal: 107ms\tremaining: 1.68s\n",
            "60:\tlearn: 0.4980926\ttotal: 108ms\tremaining: 1.67s\n",
            "61:\tlearn: 0.4960494\ttotal: 109ms\tremaining: 1.65s\n",
            "62:\tlearn: 0.4936141\ttotal: 110ms\tremaining: 1.64s\n",
            "63:\tlearn: 0.4911757\ttotal: 111ms\tremaining: 1.63s\n",
            "64:\tlearn: 0.4889205\ttotal: 112ms\tremaining: 1.61s\n",
            "65:\tlearn: 0.4866695\ttotal: 113ms\tremaining: 1.6s\n",
            "66:\tlearn: 0.4842224\ttotal: 114ms\tremaining: 1.59s\n",
            "67:\tlearn: 0.4814939\ttotal: 115ms\tremaining: 1.58s\n",
            "68:\tlearn: 0.4794152\ttotal: 116ms\tremaining: 1.56s\n",
            "69:\tlearn: 0.4772792\ttotal: 117ms\tremaining: 1.55s\n",
            "70:\tlearn: 0.4751667\ttotal: 118ms\tremaining: 1.54s\n",
            "71:\tlearn: 0.4728838\ttotal: 119ms\tremaining: 1.53s\n",
            "72:\tlearn: 0.4704819\ttotal: 120ms\tremaining: 1.52s\n",
            "73:\tlearn: 0.4684806\ttotal: 121ms\tremaining: 1.51s\n",
            "74:\tlearn: 0.4661230\ttotal: 122ms\tremaining: 1.5s\n",
            "75:\tlearn: 0.4642613\ttotal: 123ms\tremaining: 1.49s\n",
            "76:\tlearn: 0.4620808\ttotal: 124ms\tremaining: 1.48s\n",
            "77:\tlearn: 0.4600385\ttotal: 125ms\tremaining: 1.48s\n",
            "78:\tlearn: 0.4582335\ttotal: 126ms\tremaining: 1.46s\n",
            "79:\tlearn: 0.4558984\ttotal: 127ms\tremaining: 1.46s\n",
            "80:\tlearn: 0.4537538\ttotal: 127ms\tremaining: 1.45s\n",
            "81:\tlearn: 0.4517259\ttotal: 128ms\tremaining: 1.44s\n",
            "82:\tlearn: 0.4499670\ttotal: 129ms\tremaining: 1.43s\n",
            "83:\tlearn: 0.4477599\ttotal: 130ms\tremaining: 1.42s\n",
            "84:\tlearn: 0.4464508\ttotal: 132ms\tremaining: 1.42s\n",
            "85:\tlearn: 0.4444302\ttotal: 133ms\tremaining: 1.41s\n",
            "86:\tlearn: 0.4424418\ttotal: 134ms\tremaining: 1.4s\n",
            "87:\tlearn: 0.4412246\ttotal: 135ms\tremaining: 1.39s\n",
            "88:\tlearn: 0.4391346\ttotal: 135ms\tremaining: 1.39s\n",
            "89:\tlearn: 0.4374281\ttotal: 136ms\tremaining: 1.38s\n",
            "90:\tlearn: 0.4363554\ttotal: 137ms\tremaining: 1.37s\n",
            "91:\tlearn: 0.4344354\ttotal: 138ms\tremaining: 1.36s\n",
            "92:\tlearn: 0.4321990\ttotal: 139ms\tremaining: 1.36s\n",
            "93:\tlearn: 0.4306847\ttotal: 140ms\tremaining: 1.35s\n",
            "94:\tlearn: 0.4289647\ttotal: 141ms\tremaining: 1.35s\n",
            "95:\tlearn: 0.4273270\ttotal: 142ms\tremaining: 1.34s\n",
            "96:\tlearn: 0.4255725\ttotal: 143ms\tremaining: 1.33s\n",
            "97:\tlearn: 0.4237833\ttotal: 144ms\tremaining: 1.33s\n",
            "98:\tlearn: 0.4223538\ttotal: 145ms\tremaining: 1.32s\n",
            "99:\tlearn: 0.4210015\ttotal: 146ms\tremaining: 1.31s\n",
            "100:\tlearn: 0.4190190\ttotal: 147ms\tremaining: 1.31s\n",
            "101:\tlearn: 0.4172524\ttotal: 148ms\tremaining: 1.3s\n",
            "102:\tlearn: 0.4168345\ttotal: 149ms\tremaining: 1.29s\n",
            "103:\tlearn: 0.4152186\ttotal: 149ms\tremaining: 1.29s\n",
            "104:\tlearn: 0.4135804\ttotal: 150ms\tremaining: 1.28s\n",
            "105:\tlearn: 0.4119152\ttotal: 151ms\tremaining: 1.28s\n",
            "106:\tlearn: 0.4105740\ttotal: 152ms\tremaining: 1.27s\n",
            "107:\tlearn: 0.4087467\ttotal: 153ms\tremaining: 1.26s\n",
            "108:\tlearn: 0.4073203\ttotal: 154ms\tremaining: 1.26s\n",
            "109:\tlearn: 0.4060689\ttotal: 155ms\tremaining: 1.25s\n",
            "110:\tlearn: 0.4042264\ttotal: 156ms\tremaining: 1.25s\n",
            "111:\tlearn: 0.4038091\ttotal: 157ms\tremaining: 1.24s\n",
            "112:\tlearn: 0.4020725\ttotal: 158ms\tremaining: 1.24s\n",
            "113:\tlearn: 0.4003001\ttotal: 158ms\tremaining: 1.23s\n",
            "114:\tlearn: 0.3984571\ttotal: 159ms\tremaining: 1.23s\n",
            "115:\tlearn: 0.3971849\ttotal: 160ms\tremaining: 1.22s\n",
            "116:\tlearn: 0.3955067\ttotal: 161ms\tremaining: 1.22s\n",
            "117:\tlearn: 0.3941418\ttotal: 162ms\tremaining: 1.21s\n",
            "118:\tlearn: 0.3924935\ttotal: 163ms\tremaining: 1.21s\n",
            "119:\tlearn: 0.3912549\ttotal: 164ms\tremaining: 1.2s\n",
            "120:\tlearn: 0.3903570\ttotal: 165ms\tremaining: 1.2s\n",
            "121:\tlearn: 0.3887626\ttotal: 166ms\tremaining: 1.2s\n",
            "122:\tlearn: 0.3871074\ttotal: 167ms\tremaining: 1.19s\n",
            "123:\tlearn: 0.3860535\ttotal: 168ms\tremaining: 1.19s\n",
            "124:\tlearn: 0.3845551\ttotal: 169ms\tremaining: 1.18s\n",
            "125:\tlearn: 0.3830853\ttotal: 170ms\tremaining: 1.18s\n",
            "126:\tlearn: 0.3816215\ttotal: 171ms\tremaining: 1.17s\n",
            "127:\tlearn: 0.3804151\ttotal: 172ms\tremaining: 1.17s\n",
            "128:\tlearn: 0.3789910\ttotal: 173ms\tremaining: 1.17s\n",
            "129:\tlearn: 0.3775969\ttotal: 174ms\tremaining: 1.16s\n",
            "130:\tlearn: 0.3761544\ttotal: 175ms\tremaining: 1.16s\n",
            "131:\tlearn: 0.3754419\ttotal: 176ms\tremaining: 1.16s\n",
            "132:\tlearn: 0.3740975\ttotal: 177ms\tremaining: 1.15s\n",
            "133:\tlearn: 0.3726087\ttotal: 178ms\tremaining: 1.15s\n",
            "134:\tlearn: 0.3717108\ttotal: 179ms\tremaining: 1.15s\n",
            "135:\tlearn: 0.3709786\ttotal: 180ms\tremaining: 1.14s\n",
            "136:\tlearn: 0.3700637\ttotal: 181ms\tremaining: 1.14s\n",
            "137:\tlearn: 0.3691610\ttotal: 181ms\tremaining: 1.13s\n",
            "138:\tlearn: 0.3678790\ttotal: 184ms\tremaining: 1.14s\n",
            "139:\tlearn: 0.3669473\ttotal: 185ms\tremaining: 1.14s\n",
            "140:\tlearn: 0.3665428\ttotal: 186ms\tremaining: 1.13s\n",
            "141:\tlearn: 0.3654700\ttotal: 188ms\tremaining: 1.14s\n",
            "142:\tlearn: 0.3647216\ttotal: 189ms\tremaining: 1.13s\n",
            "143:\tlearn: 0.3640182\ttotal: 190ms\tremaining: 1.13s\n",
            "144:\tlearn: 0.3626984\ttotal: 191ms\tremaining: 1.13s\n",
            "145:\tlearn: 0.3617081\ttotal: 192ms\tremaining: 1.12s\n",
            "146:\tlearn: 0.3610792\ttotal: 193ms\tremaining: 1.12s\n",
            "147:\tlearn: 0.3599507\ttotal: 194ms\tremaining: 1.11s\n",
            "148:\tlearn: 0.3583521\ttotal: 195ms\tremaining: 1.11s\n",
            "149:\tlearn: 0.3570548\ttotal: 196ms\tremaining: 1.11s\n",
            "150:\tlearn: 0.3558769\ttotal: 197ms\tremaining: 1.1s\n",
            "151:\tlearn: 0.3548482\ttotal: 198ms\tremaining: 1.1s\n",
            "152:\tlearn: 0.3536716\ttotal: 198ms\tremaining: 1.1s\n",
            "153:\tlearn: 0.3524540\ttotal: 199ms\tremaining: 1.09s\n",
            "154:\tlearn: 0.3514497\ttotal: 201ms\tremaining: 1.09s\n",
            "155:\tlearn: 0.3501656\ttotal: 202ms\tremaining: 1.09s\n",
            "156:\tlearn: 0.3490405\ttotal: 203ms\tremaining: 1.09s\n",
            "157:\tlearn: 0.3477921\ttotal: 204ms\tremaining: 1.08s\n",
            "158:\tlearn: 0.3468401\ttotal: 205ms\tremaining: 1.08s\n",
            "159:\tlearn: 0.3460231\ttotal: 205ms\tremaining: 1.08s\n",
            "160:\tlearn: 0.3450029\ttotal: 206ms\tremaining: 1.07s\n",
            "161:\tlearn: 0.3437774\ttotal: 207ms\tremaining: 1.07s\n",
            "162:\tlearn: 0.3431007\ttotal: 208ms\tremaining: 1.07s\n",
            "163:\tlearn: 0.3419235\ttotal: 209ms\tremaining: 1.06s\n",
            "164:\tlearn: 0.3409025\ttotal: 210ms\tremaining: 1.06s\n",
            "165:\tlearn: 0.3397299\ttotal: 211ms\tremaining: 1.06s\n",
            "166:\tlearn: 0.3386181\ttotal: 212ms\tremaining: 1.06s\n",
            "167:\tlearn: 0.3375191\ttotal: 213ms\tremaining: 1.05s\n",
            "168:\tlearn: 0.3364865\ttotal: 214ms\tremaining: 1.05s\n",
            "169:\tlearn: 0.3356479\ttotal: 215ms\tremaining: 1.05s\n",
            "170:\tlearn: 0.3347030\ttotal: 215ms\tremaining: 1.04s\n",
            "171:\tlearn: 0.3339702\ttotal: 216ms\tremaining: 1.04s\n",
            "172:\tlearn: 0.3331216\ttotal: 217ms\tremaining: 1.04s\n",
            "173:\tlearn: 0.3320450\ttotal: 218ms\tremaining: 1.04s\n",
            "174:\tlearn: 0.3310071\ttotal: 219ms\tremaining: 1.03s\n",
            "175:\tlearn: 0.3299862\ttotal: 220ms\tremaining: 1.03s\n",
            "176:\tlearn: 0.3289793\ttotal: 221ms\tremaining: 1.03s\n",
            "177:\tlearn: 0.3279454\ttotal: 222ms\tremaining: 1.03s\n",
            "178:\tlearn: 0.3271478\ttotal: 223ms\tremaining: 1.02s\n",
            "179:\tlearn: 0.3260648\ttotal: 224ms\tremaining: 1.02s\n",
            "180:\tlearn: 0.3254412\ttotal: 225ms\tremaining: 1.02s\n",
            "181:\tlearn: 0.3248063\ttotal: 225ms\tremaining: 1.01s\n",
            "182:\tlearn: 0.3238293\ttotal: 226ms\tremaining: 1.01s\n",
            "183:\tlearn: 0.3231287\ttotal: 227ms\tremaining: 1.01s\n",
            "184:\tlearn: 0.3222191\ttotal: 228ms\tremaining: 1.01s\n",
            "185:\tlearn: 0.3216169\ttotal: 229ms\tremaining: 1s\n",
            "186:\tlearn: 0.3213796\ttotal: 231ms\tremaining: 1s\n",
            "187:\tlearn: 0.3205615\ttotal: 232ms\tremaining: 1s\n",
            "188:\tlearn: 0.3195711\ttotal: 233ms\tremaining: 999ms\n",
            "189:\tlearn: 0.3184321\ttotal: 234ms\tremaining: 998ms\n",
            "190:\tlearn: 0.3175199\ttotal: 235ms\tremaining: 996ms\n",
            "191:\tlearn: 0.3168304\ttotal: 236ms\tremaining: 994ms\n",
            "192:\tlearn: 0.3158642\ttotal: 237ms\tremaining: 991ms\n",
            "193:\tlearn: 0.3146668\ttotal: 238ms\tremaining: 989ms\n",
            "194:\tlearn: 0.3137314\ttotal: 239ms\tremaining: 987ms\n",
            "195:\tlearn: 0.3129425\ttotal: 240ms\tremaining: 984ms\n",
            "196:\tlearn: 0.3122555\ttotal: 241ms\tremaining: 982ms\n",
            "197:\tlearn: 0.3119420\ttotal: 242ms\tremaining: 978ms\n",
            "198:\tlearn: 0.3114255\ttotal: 242ms\tremaining: 976ms\n",
            "199:\tlearn: 0.3104402\ttotal: 243ms\tremaining: 974ms\n",
            "200:\tlearn: 0.3095079\ttotal: 244ms\tremaining: 971ms\n",
            "201:\tlearn: 0.3089474\ttotal: 245ms\tremaining: 969ms\n",
            "202:\tlearn: 0.3083657\ttotal: 246ms\tremaining: 967ms\n",
            "203:\tlearn: 0.3082034\ttotal: 247ms\tremaining: 963ms\n",
            "204:\tlearn: 0.3072882\ttotal: 248ms\tremaining: 961ms\n",
            "205:\tlearn: 0.3064619\ttotal: 249ms\tremaining: 959ms\n",
            "206:\tlearn: 0.3056181\ttotal: 250ms\tremaining: 956ms\n",
            "207:\tlearn: 0.3046400\ttotal: 251ms\tremaining: 954ms\n",
            "208:\tlearn: 0.3036925\ttotal: 252ms\tremaining: 952ms\n",
            "209:\tlearn: 0.3027497\ttotal: 253ms\tremaining: 950ms\n",
            "210:\tlearn: 0.3019962\ttotal: 254ms\tremaining: 948ms\n",
            "211:\tlearn: 0.3012496\ttotal: 255ms\tremaining: 946ms\n",
            "212:\tlearn: 0.3004081\ttotal: 255ms\tremaining: 944ms\n",
            "213:\tlearn: 0.2997812\ttotal: 257ms\tremaining: 945ms\n",
            "214:\tlearn: 0.2991455\ttotal: 258ms\tremaining: 943ms\n",
            "215:\tlearn: 0.2988672\ttotal: 259ms\tremaining: 940ms\n",
            "216:\tlearn: 0.2981843\ttotal: 260ms\tremaining: 938ms\n",
            "217:\tlearn: 0.2972974\ttotal: 261ms\tremaining: 936ms\n",
            "218:\tlearn: 0.2964042\ttotal: 262ms\tremaining: 935ms\n",
            "219:\tlearn: 0.2955199\ttotal: 263ms\tremaining: 934ms\n",
            "220:\tlearn: 0.2949090\ttotal: 264ms\tremaining: 932ms\n",
            "221:\tlearn: 0.2939909\ttotal: 265ms\tremaining: 930ms\n",
            "222:\tlearn: 0.2934019\ttotal: 266ms\tremaining: 928ms\n",
            "223:\tlearn: 0.2925507\ttotal: 267ms\tremaining: 926ms\n",
            "224:\tlearn: 0.2917722\ttotal: 268ms\tremaining: 924ms\n",
            "225:\tlearn: 0.2909297\ttotal: 272ms\tremaining: 932ms\n",
            "226:\tlearn: 0.2902430\ttotal: 273ms\tremaining: 930ms\n",
            "227:\tlearn: 0.2897355\ttotal: 274ms\tremaining: 928ms\n",
            "228:\tlearn: 0.2891682\ttotal: 278ms\tremaining: 934ms\n",
            "229:\tlearn: 0.2881589\ttotal: 279ms\tremaining: 933ms\n",
            "230:\tlearn: 0.2876468\ttotal: 280ms\tremaining: 931ms\n",
            "231:\tlearn: 0.2866754\ttotal: 281ms\tremaining: 929ms\n",
            "232:\tlearn: 0.2861265\ttotal: 282ms\tremaining: 927ms\n",
            "233:\tlearn: 0.2855869\ttotal: 283ms\tremaining: 925ms\n",
            "234:\tlearn: 0.2848933\ttotal: 284ms\tremaining: 923ms\n",
            "235:\tlearn: 0.2842222\ttotal: 285ms\tremaining: 921ms\n",
            "236:\tlearn: 0.2834858\ttotal: 285ms\tremaining: 919ms\n",
            "237:\tlearn: 0.2830647\ttotal: 286ms\tremaining: 917ms\n",
            "238:\tlearn: 0.2824748\ttotal: 287ms\tremaining: 915ms\n",
            "239:\tlearn: 0.2817573\ttotal: 288ms\tremaining: 913ms\n",
            "240:\tlearn: 0.2810201\ttotal: 289ms\tremaining: 911ms\n",
            "241:\tlearn: 0.2803158\ttotal: 290ms\tremaining: 909ms\n",
            "242:\tlearn: 0.2796420\ttotal: 291ms\tremaining: 907ms\n",
            "243:\tlearn: 0.2788937\ttotal: 292ms\tremaining: 905ms\n",
            "244:\tlearn: 0.2786907\ttotal: 293ms\tremaining: 902ms\n",
            "245:\tlearn: 0.2780988\ttotal: 294ms\tremaining: 901ms\n",
            "246:\tlearn: 0.2771583\ttotal: 295ms\tremaining: 899ms\n",
            "247:\tlearn: 0.2768971\ttotal: 295ms\tremaining: 896ms\n",
            "248:\tlearn: 0.2763000\ttotal: 296ms\tremaining: 894ms\n",
            "249:\tlearn: 0.2756882\ttotal: 297ms\tremaining: 892ms\n",
            "250:\tlearn: 0.2749869\ttotal: 298ms\tremaining: 890ms\n",
            "251:\tlearn: 0.2743903\ttotal: 299ms\tremaining: 888ms\n",
            "252:\tlearn: 0.2740990\ttotal: 300ms\tremaining: 887ms\n",
            "253:\tlearn: 0.2734005\ttotal: 301ms\tremaining: 885ms\n",
            "254:\tlearn: 0.2727871\ttotal: 302ms\tremaining: 883ms\n",
            "255:\tlearn: 0.2725174\ttotal: 303ms\tremaining: 880ms\n",
            "256:\tlearn: 0.2717829\ttotal: 304ms\tremaining: 878ms\n",
            "257:\tlearn: 0.2708730\ttotal: 305ms\tremaining: 877ms\n",
            "258:\tlearn: 0.2700918\ttotal: 306ms\tremaining: 875ms\n",
            "259:\tlearn: 0.2692300\ttotal: 307ms\tremaining: 873ms\n",
            "260:\tlearn: 0.2683500\ttotal: 308ms\tremaining: 871ms\n",
            "261:\tlearn: 0.2678561\ttotal: 309ms\tremaining: 870ms\n",
            "262:\tlearn: 0.2670800\ttotal: 310ms\tremaining: 868ms\n",
            "263:\tlearn: 0.2665584\ttotal: 311ms\tremaining: 866ms\n",
            "264:\tlearn: 0.2658414\ttotal: 312ms\tremaining: 864ms\n",
            "265:\tlearn: 0.2653561\ttotal: 313ms\tremaining: 863ms\n",
            "266:\tlearn: 0.2648316\ttotal: 314ms\tremaining: 861ms\n",
            "267:\tlearn: 0.2641168\ttotal: 315ms\tremaining: 859ms\n",
            "268:\tlearn: 0.2634224\ttotal: 316ms\tremaining: 858ms\n",
            "269:\tlearn: 0.2630555\ttotal: 317ms\tremaining: 856ms\n",
            "270:\tlearn: 0.2622134\ttotal: 318ms\tremaining: 855ms\n",
            "271:\tlearn: 0.2614171\ttotal: 319ms\tremaining: 853ms\n",
            "272:\tlearn: 0.2607976\ttotal: 320ms\tremaining: 851ms\n",
            "273:\tlearn: 0.2600894\ttotal: 321ms\tremaining: 850ms\n",
            "274:\tlearn: 0.2593677\ttotal: 322ms\tremaining: 848ms\n",
            "275:\tlearn: 0.2586485\ttotal: 323ms\tremaining: 847ms\n",
            "276:\tlearn: 0.2579566\ttotal: 324ms\tremaining: 845ms\n",
            "277:\tlearn: 0.2574472\ttotal: 325ms\tremaining: 843ms\n",
            "278:\tlearn: 0.2572423\ttotal: 325ms\tremaining: 841ms\n",
            "279:\tlearn: 0.2571331\ttotal: 326ms\tremaining: 838ms\n",
            "280:\tlearn: 0.2568561\ttotal: 327ms\tremaining: 836ms\n",
            "281:\tlearn: 0.2562770\ttotal: 328ms\tremaining: 834ms\n",
            "282:\tlearn: 0.2557142\ttotal: 329ms\tremaining: 833ms\n",
            "283:\tlearn: 0.2553954\ttotal: 330ms\tremaining: 831ms\n",
            "284:\tlearn: 0.2547478\ttotal: 331ms\tremaining: 829ms\n",
            "285:\tlearn: 0.2540679\ttotal: 332ms\tremaining: 828ms\n",
            "286:\tlearn: 0.2539891\ttotal: 332ms\tremaining: 825ms\n",
            "287:\tlearn: 0.2535111\ttotal: 333ms\tremaining: 823ms\n",
            "288:\tlearn: 0.2530108\ttotal: 334ms\tremaining: 822ms\n",
            "289:\tlearn: 0.2525662\ttotal: 335ms\tremaining: 820ms\n",
            "290:\tlearn: 0.2519221\ttotal: 336ms\tremaining: 818ms\n",
            "291:\tlearn: 0.2515194\ttotal: 337ms\tremaining: 817ms\n",
            "292:\tlearn: 0.2510442\ttotal: 338ms\tremaining: 815ms\n",
            "293:\tlearn: 0.2506148\ttotal: 339ms\tremaining: 813ms\n",
            "294:\tlearn: 0.2501800\ttotal: 340ms\tremaining: 812ms\n",
            "295:\tlearn: 0.2499113\ttotal: 341ms\tremaining: 810ms\n",
            "296:\tlearn: 0.2495758\ttotal: 342ms\tremaining: 809ms\n",
            "297:\tlearn: 0.2491993\ttotal: 343ms\tremaining: 807ms\n",
            "298:\tlearn: 0.2485729\ttotal: 344ms\tremaining: 805ms\n",
            "299:\tlearn: 0.2482492\ttotal: 345ms\tremaining: 804ms\n",
            "300:\tlearn: 0.2477380\ttotal: 346ms\tremaining: 802ms\n",
            "301:\tlearn: 0.2472679\ttotal: 346ms\tremaining: 801ms\n",
            "302:\tlearn: 0.2466463\ttotal: 347ms\tremaining: 799ms\n",
            "303:\tlearn: 0.2460007\ttotal: 348ms\tremaining: 798ms\n",
            "304:\tlearn: 0.2455599\ttotal: 349ms\tremaining: 796ms\n",
            "305:\tlearn: 0.2452130\ttotal: 350ms\tremaining: 794ms\n",
            "306:\tlearn: 0.2449259\ttotal: 351ms\tremaining: 793ms\n",
            "307:\tlearn: 0.2442290\ttotal: 352ms\tremaining: 791ms\n",
            "308:\tlearn: 0.2437268\ttotal: 353ms\tremaining: 790ms\n",
            "309:\tlearn: 0.2431827\ttotal: 354ms\tremaining: 788ms\n",
            "310:\tlearn: 0.2426726\ttotal: 355ms\tremaining: 787ms\n",
            "311:\tlearn: 0.2423553\ttotal: 356ms\tremaining: 785ms\n",
            "312:\tlearn: 0.2415729\ttotal: 357ms\tremaining: 784ms\n",
            "313:\tlearn: 0.2410771\ttotal: 358ms\tremaining: 782ms\n",
            "314:\tlearn: 0.2404037\ttotal: 359ms\tremaining: 781ms\n",
            "315:\tlearn: 0.2401320\ttotal: 360ms\tremaining: 779ms\n",
            "316:\tlearn: 0.2396298\ttotal: 361ms\tremaining: 778ms\n",
            "317:\tlearn: 0.2391688\ttotal: 366ms\tremaining: 785ms\n",
            "318:\tlearn: 0.2384678\ttotal: 368ms\tremaining: 786ms\n",
            "319:\tlearn: 0.2378998\ttotal: 370ms\tremaining: 785ms\n",
            "320:\tlearn: 0.2374028\ttotal: 371ms\tremaining: 784ms\n",
            "321:\tlearn: 0.2368888\ttotal: 372ms\tremaining: 783ms\n",
            "322:\tlearn: 0.2362894\ttotal: 373ms\tremaining: 781ms\n",
            "323:\tlearn: 0.2356966\ttotal: 374ms\tremaining: 780ms\n",
            "324:\tlearn: 0.2355465\ttotal: 374ms\tremaining: 778ms\n",
            "325:\tlearn: 0.2351898\ttotal: 375ms\tremaining: 776ms\n",
            "326:\tlearn: 0.2347413\ttotal: 376ms\tremaining: 775ms\n",
            "327:\tlearn: 0.2342966\ttotal: 377ms\tremaining: 773ms\n",
            "328:\tlearn: 0.2338075\ttotal: 378ms\tremaining: 772ms\n",
            "329:\tlearn: 0.2334156\ttotal: 379ms\tremaining: 770ms\n",
            "330:\tlearn: 0.2329464\ttotal: 380ms\tremaining: 769ms\n",
            "331:\tlearn: 0.2325743\ttotal: 381ms\tremaining: 767ms\n",
            "332:\tlearn: 0.2319696\ttotal: 382ms\tremaining: 765ms\n",
            "333:\tlearn: 0.2316575\ttotal: 383ms\tremaining: 764ms\n",
            "334:\tlearn: 0.2312244\ttotal: 384ms\tremaining: 762ms\n",
            "335:\tlearn: 0.2307858\ttotal: 385ms\tremaining: 761ms\n",
            "336:\tlearn: 0.2303428\ttotal: 386ms\tremaining: 759ms\n",
            "337:\tlearn: 0.2299614\ttotal: 387ms\tremaining: 758ms\n",
            "338:\tlearn: 0.2295392\ttotal: 388ms\tremaining: 756ms\n",
            "339:\tlearn: 0.2288335\ttotal: 389ms\tremaining: 755ms\n",
            "340:\tlearn: 0.2285572\ttotal: 390ms\tremaining: 753ms\n",
            "341:\tlearn: 0.2279628\ttotal: 391ms\tremaining: 752ms\n",
            "342:\tlearn: 0.2274509\ttotal: 392ms\tremaining: 750ms\n",
            "343:\tlearn: 0.2268613\ttotal: 393ms\tremaining: 749ms\n",
            "344:\tlearn: 0.2262087\ttotal: 394ms\tremaining: 747ms\n",
            "345:\tlearn: 0.2257214\ttotal: 395ms\tremaining: 746ms\n",
            "346:\tlearn: 0.2254057\ttotal: 396ms\tremaining: 745ms\n",
            "347:\tlearn: 0.2249916\ttotal: 397ms\tremaining: 743ms\n",
            "348:\tlearn: 0.2244059\ttotal: 398ms\tremaining: 742ms\n",
            "349:\tlearn: 0.2240736\ttotal: 398ms\tremaining: 740ms\n",
            "350:\tlearn: 0.2237426\ttotal: 399ms\tremaining: 739ms\n",
            "351:\tlearn: 0.2234134\ttotal: 400ms\tremaining: 737ms\n",
            "352:\tlearn: 0.2228320\ttotal: 401ms\tremaining: 736ms\n",
            "353:\tlearn: 0.2224666\ttotal: 402ms\tremaining: 734ms\n",
            "354:\tlearn: 0.2222550\ttotal: 403ms\tremaining: 732ms\n",
            "355:\tlearn: 0.2216131\ttotal: 404ms\tremaining: 731ms\n",
            "356:\tlearn: 0.2215544\ttotal: 405ms\tremaining: 729ms\n",
            "357:\tlearn: 0.2210968\ttotal: 406ms\tremaining: 727ms\n",
            "358:\tlearn: 0.2208180\ttotal: 406ms\tremaining: 726ms\n",
            "359:\tlearn: 0.2205338\ttotal: 407ms\tremaining: 724ms\n",
            "360:\tlearn: 0.2200951\ttotal: 408ms\tremaining: 723ms\n",
            "361:\tlearn: 0.2198489\ttotal: 409ms\tremaining: 721ms\n",
            "362:\tlearn: 0.2191870\ttotal: 410ms\tremaining: 720ms\n",
            "363:\tlearn: 0.2187008\ttotal: 411ms\tremaining: 719ms\n",
            "364:\tlearn: 0.2182756\ttotal: 412ms\tremaining: 717ms\n",
            "365:\tlearn: 0.2179802\ttotal: 413ms\tremaining: 716ms\n",
            "366:\tlearn: 0.2178616\ttotal: 414ms\tremaining: 714ms\n",
            "367:\tlearn: 0.2172795\ttotal: 415ms\tremaining: 712ms\n",
            "368:\tlearn: 0.2168529\ttotal: 416ms\tremaining: 711ms\n",
            "369:\tlearn: 0.2162788\ttotal: 417ms\tremaining: 709ms\n",
            "370:\tlearn: 0.2157970\ttotal: 418ms\tremaining: 708ms\n",
            "371:\tlearn: 0.2155513\ttotal: 418ms\tremaining: 706ms\n",
            "372:\tlearn: 0.2152293\ttotal: 419ms\tremaining: 705ms\n",
            "373:\tlearn: 0.2146507\ttotal: 420ms\tremaining: 704ms\n",
            "374:\tlearn: 0.2142721\ttotal: 421ms\tremaining: 702ms\n",
            "375:\tlearn: 0.2137349\ttotal: 422ms\tremaining: 701ms\n",
            "376:\tlearn: 0.2132904\ttotal: 423ms\tremaining: 699ms\n",
            "377:\tlearn: 0.2128995\ttotal: 424ms\tremaining: 698ms\n",
            "378:\tlearn: 0.2126175\ttotal: 425ms\tremaining: 697ms\n",
            "379:\tlearn: 0.2123851\ttotal: 426ms\tremaining: 695ms\n",
            "380:\tlearn: 0.2121239\ttotal: 427ms\tremaining: 694ms\n",
            "381:\tlearn: 0.2116335\ttotal: 428ms\tremaining: 693ms\n",
            "382:\tlearn: 0.2111846\ttotal: 429ms\tremaining: 691ms\n",
            "383:\tlearn: 0.2109192\ttotal: 430ms\tremaining: 690ms\n",
            "384:\tlearn: 0.2105548\ttotal: 431ms\tremaining: 688ms\n",
            "385:\tlearn: 0.2101870\ttotal: 432ms\tremaining: 687ms\n",
            "386:\tlearn: 0.2099866\ttotal: 433ms\tremaining: 686ms\n",
            "387:\tlearn: 0.2096512\ttotal: 434ms\tremaining: 684ms\n",
            "388:\tlearn: 0.2093026\ttotal: 435ms\tremaining: 683ms\n",
            "389:\tlearn: 0.2089285\ttotal: 436ms\tremaining: 682ms\n",
            "390:\tlearn: 0.2086745\ttotal: 437ms\tremaining: 680ms\n",
            "391:\tlearn: 0.2083699\ttotal: 438ms\tremaining: 679ms\n",
            "392:\tlearn: 0.2078739\ttotal: 439ms\tremaining: 678ms\n",
            "393:\tlearn: 0.2073156\ttotal: 440ms\tremaining: 676ms\n",
            "394:\tlearn: 0.2070244\ttotal: 441ms\tremaining: 675ms\n",
            "395:\tlearn: 0.2068250\ttotal: 442ms\tremaining: 673ms\n",
            "396:\tlearn: 0.2064511\ttotal: 443ms\tremaining: 672ms\n",
            "397:\tlearn: 0.2060562\ttotal: 444ms\tremaining: 671ms\n",
            "398:\tlearn: 0.2057423\ttotal: 444ms\tremaining: 669ms\n",
            "399:\tlearn: 0.2052434\ttotal: 445ms\tremaining: 668ms\n",
            "400:\tlearn: 0.2048643\ttotal: 446ms\tremaining: 667ms\n",
            "401:\tlearn: 0.2046052\ttotal: 447ms\tremaining: 665ms\n",
            "402:\tlearn: 0.2042447\ttotal: 448ms\tremaining: 664ms\n",
            "403:\tlearn: 0.2038592\ttotal: 449ms\tremaining: 663ms\n",
            "404:\tlearn: 0.2034124\ttotal: 450ms\tremaining: 661ms\n",
            "405:\tlearn: 0.2032263\ttotal: 451ms\tremaining: 660ms\n",
            "406:\tlearn: 0.2028030\ttotal: 452ms\tremaining: 659ms\n",
            "407:\tlearn: 0.2024526\ttotal: 453ms\tremaining: 657ms\n",
            "408:\tlearn: 0.2019776\ttotal: 454ms\tremaining: 656ms\n",
            "409:\tlearn: 0.2015985\ttotal: 455ms\tremaining: 655ms\n",
            "410:\tlearn: 0.2013106\ttotal: 456ms\tremaining: 654ms\n",
            "411:\tlearn: 0.2008738\ttotal: 457ms\tremaining: 652ms\n",
            "412:\tlearn: 0.2006207\ttotal: 458ms\tremaining: 651ms\n",
            "413:\tlearn: 0.2003681\ttotal: 459ms\tremaining: 650ms\n",
            "414:\tlearn: 0.1999852\ttotal: 460ms\tremaining: 648ms\n",
            "415:\tlearn: 0.1996088\ttotal: 461ms\tremaining: 647ms\n",
            "416:\tlearn: 0.1991817\ttotal: 462ms\tremaining: 646ms\n",
            "417:\tlearn: 0.1986713\ttotal: 463ms\tremaining: 644ms\n",
            "418:\tlearn: 0.1981691\ttotal: 464ms\tremaining: 643ms\n",
            "419:\tlearn: 0.1978891\ttotal: 465ms\tremaining: 642ms\n",
            "420:\tlearn: 0.1977216\ttotal: 466ms\tremaining: 640ms\n",
            "421:\tlearn: 0.1974574\ttotal: 467ms\tremaining: 639ms\n",
            "422:\tlearn: 0.1972447\ttotal: 468ms\tremaining: 638ms\n",
            "423:\tlearn: 0.1969994\ttotal: 468ms\tremaining: 636ms\n",
            "424:\tlearn: 0.1967162\ttotal: 469ms\tremaining: 635ms\n",
            "425:\tlearn: 0.1964425\ttotal: 470ms\tremaining: 634ms\n",
            "426:\tlearn: 0.1961557\ttotal: 471ms\tremaining: 632ms\n",
            "427:\tlearn: 0.1957997\ttotal: 472ms\tremaining: 631ms\n",
            "428:\tlearn: 0.1954167\ttotal: 473ms\tremaining: 630ms\n",
            "429:\tlearn: 0.1950455\ttotal: 474ms\tremaining: 629ms\n",
            "430:\tlearn: 0.1949546\ttotal: 475ms\tremaining: 627ms\n",
            "431:\tlearn: 0.1945898\ttotal: 476ms\tremaining: 625ms\n",
            "432:\tlearn: 0.1942163\ttotal: 477ms\tremaining: 624ms\n",
            "433:\tlearn: 0.1936866\ttotal: 478ms\tremaining: 623ms\n",
            "434:\tlearn: 0.1934503\ttotal: 479ms\tremaining: 622ms\n",
            "435:\tlearn: 0.1931215\ttotal: 480ms\tremaining: 621ms\n",
            "436:\tlearn: 0.1927568\ttotal: 481ms\tremaining: 619ms\n",
            "437:\tlearn: 0.1925669\ttotal: 482ms\tremaining: 618ms\n",
            "438:\tlearn: 0.1923588\ttotal: 483ms\tremaining: 617ms\n",
            "439:\tlearn: 0.1920700\ttotal: 484ms\tremaining: 615ms\n",
            "440:\tlearn: 0.1917133\ttotal: 484ms\tremaining: 614ms\n",
            "441:\tlearn: 0.1913317\ttotal: 485ms\tremaining: 613ms\n",
            "442:\tlearn: 0.1910942\ttotal: 486ms\tremaining: 612ms\n",
            "443:\tlearn: 0.1907268\ttotal: 487ms\tremaining: 610ms\n",
            "444:\tlearn: 0.1905861\ttotal: 488ms\tremaining: 609ms\n",
            "445:\tlearn: 0.1900905\ttotal: 489ms\tremaining: 608ms\n",
            "446:\tlearn: 0.1898145\ttotal: 490ms\tremaining: 606ms\n",
            "447:\tlearn: 0.1896167\ttotal: 491ms\tremaining: 605ms\n",
            "448:\tlearn: 0.1889812\ttotal: 493ms\tremaining: 605ms\n",
            "449:\tlearn: 0.1885532\ttotal: 494ms\tremaining: 604ms\n",
            "450:\tlearn: 0.1883141\ttotal: 496ms\tremaining: 603ms\n",
            "451:\tlearn: 0.1879359\ttotal: 497ms\tremaining: 602ms\n",
            "452:\tlearn: 0.1876025\ttotal: 499ms\tremaining: 602ms\n",
            "453:\tlearn: 0.1873574\ttotal: 500ms\tremaining: 601ms\n",
            "454:\tlearn: 0.1869858\ttotal: 501ms\tremaining: 601ms\n",
            "455:\tlearn: 0.1865754\ttotal: 504ms\tremaining: 601ms\n",
            "456:\tlearn: 0.1862690\ttotal: 505ms\tremaining: 600ms\n",
            "457:\tlearn: 0.1858536\ttotal: 506ms\tremaining: 599ms\n",
            "458:\tlearn: 0.1855222\ttotal: 507ms\tremaining: 597ms\n",
            "459:\tlearn: 0.1852509\ttotal: 508ms\tremaining: 596ms\n",
            "460:\tlearn: 0.1849316\ttotal: 509ms\tremaining: 595ms\n",
            "461:\tlearn: 0.1846836\ttotal: 509ms\tremaining: 593ms\n",
            "462:\tlearn: 0.1844535\ttotal: 510ms\tremaining: 592ms\n",
            "463:\tlearn: 0.1840268\ttotal: 511ms\tremaining: 590ms\n",
            "464:\tlearn: 0.1838495\ttotal: 512ms\tremaining: 589ms\n",
            "465:\tlearn: 0.1836017\ttotal: 513ms\tremaining: 588ms\n",
            "466:\tlearn: 0.1833757\ttotal: 514ms\tremaining: 586ms\n",
            "467:\tlearn: 0.1830910\ttotal: 514ms\tremaining: 585ms\n",
            "468:\tlearn: 0.1828073\ttotal: 515ms\tremaining: 583ms\n",
            "469:\tlearn: 0.1825529\ttotal: 516ms\tremaining: 582ms\n",
            "470:\tlearn: 0.1823189\ttotal: 517ms\tremaining: 581ms\n",
            "471:\tlearn: 0.1820534\ttotal: 518ms\tremaining: 579ms\n",
            "472:\tlearn: 0.1816996\ttotal: 519ms\tremaining: 578ms\n",
            "473:\tlearn: 0.1814531\ttotal: 519ms\tremaining: 576ms\n",
            "474:\tlearn: 0.1811628\ttotal: 520ms\tremaining: 575ms\n",
            "475:\tlearn: 0.1809150\ttotal: 521ms\tremaining: 574ms\n",
            "476:\tlearn: 0.1806145\ttotal: 522ms\tremaining: 572ms\n",
            "477:\tlearn: 0.1802881\ttotal: 523ms\tremaining: 571ms\n",
            "478:\tlearn: 0.1798425\ttotal: 524ms\tremaining: 570ms\n",
            "479:\tlearn: 0.1795883\ttotal: 524ms\tremaining: 568ms\n",
            "480:\tlearn: 0.1794340\ttotal: 525ms\tremaining: 567ms\n",
            "481:\tlearn: 0.1792347\ttotal: 526ms\tremaining: 565ms\n",
            "482:\tlearn: 0.1788271\ttotal: 527ms\tremaining: 564ms\n",
            "483:\tlearn: 0.1784779\ttotal: 528ms\tremaining: 563ms\n",
            "484:\tlearn: 0.1783023\ttotal: 529ms\tremaining: 561ms\n",
            "485:\tlearn: 0.1781327\ttotal: 529ms\tremaining: 560ms\n",
            "486:\tlearn: 0.1779447\ttotal: 530ms\tremaining: 559ms\n",
            "487:\tlearn: 0.1776765\ttotal: 532ms\tremaining: 558ms\n",
            "488:\tlearn: 0.1773806\ttotal: 533ms\tremaining: 557ms\n",
            "489:\tlearn: 0.1772136\ttotal: 535ms\tremaining: 556ms\n",
            "490:\tlearn: 0.1769633\ttotal: 536ms\tremaining: 556ms\n",
            "491:\tlearn: 0.1768212\ttotal: 537ms\tremaining: 555ms\n",
            "492:\tlearn: 0.1765680\ttotal: 539ms\tremaining: 554ms\n",
            "493:\tlearn: 0.1763196\ttotal: 541ms\tremaining: 554ms\n",
            "494:\tlearn: 0.1760558\ttotal: 543ms\tremaining: 554ms\n",
            "495:\tlearn: 0.1757672\ttotal: 544ms\tremaining: 553ms\n",
            "496:\tlearn: 0.1753797\ttotal: 545ms\tremaining: 552ms\n",
            "497:\tlearn: 0.1750405\ttotal: 547ms\tremaining: 551ms\n",
            "498:\tlearn: 0.1747888\ttotal: 548ms\tremaining: 550ms\n",
            "499:\tlearn: 0.1744750\ttotal: 550ms\tremaining: 550ms\n",
            "500:\tlearn: 0.1741566\ttotal: 551ms\tremaining: 549ms\n",
            "501:\tlearn: 0.1738844\ttotal: 552ms\tremaining: 547ms\n",
            "502:\tlearn: 0.1736475\ttotal: 553ms\tremaining: 546ms\n",
            "503:\tlearn: 0.1734453\ttotal: 553ms\tremaining: 545ms\n",
            "504:\tlearn: 0.1731230\ttotal: 554ms\tremaining: 543ms\n",
            "505:\tlearn: 0.1728695\ttotal: 555ms\tremaining: 542ms\n",
            "506:\tlearn: 0.1727041\ttotal: 556ms\tremaining: 541ms\n",
            "507:\tlearn: 0.1723973\ttotal: 557ms\tremaining: 539ms\n",
            "508:\tlearn: 0.1723184\ttotal: 558ms\tremaining: 538ms\n",
            "509:\tlearn: 0.1720382\ttotal: 559ms\tremaining: 537ms\n",
            "510:\tlearn: 0.1719199\ttotal: 560ms\tremaining: 535ms\n",
            "511:\tlearn: 0.1716770\ttotal: 560ms\tremaining: 534ms\n",
            "512:\tlearn: 0.1713540\ttotal: 561ms\tremaining: 533ms\n",
            "513:\tlearn: 0.1711580\ttotal: 562ms\tremaining: 532ms\n",
            "514:\tlearn: 0.1710109\ttotal: 563ms\tremaining: 530ms\n",
            "515:\tlearn: 0.1706597\ttotal: 564ms\tremaining: 529ms\n",
            "516:\tlearn: 0.1704142\ttotal: 565ms\tremaining: 528ms\n",
            "517:\tlearn: 0.1702447\ttotal: 566ms\tremaining: 526ms\n",
            "518:\tlearn: 0.1700769\ttotal: 566ms\tremaining: 525ms\n",
            "519:\tlearn: 0.1700049\ttotal: 567ms\tremaining: 523ms\n",
            "520:\tlearn: 0.1697000\ttotal: 568ms\tremaining: 522ms\n",
            "521:\tlearn: 0.1693429\ttotal: 568ms\tremaining: 520ms\n",
            "522:\tlearn: 0.1690149\ttotal: 569ms\tremaining: 519ms\n",
            "523:\tlearn: 0.1687028\ttotal: 570ms\tremaining: 518ms\n",
            "524:\tlearn: 0.1685554\ttotal: 571ms\tremaining: 517ms\n",
            "525:\tlearn: 0.1681471\ttotal: 572ms\tremaining: 516ms\n",
            "526:\tlearn: 0.1678949\ttotal: 573ms\tremaining: 515ms\n",
            "527:\tlearn: 0.1676789\ttotal: 574ms\tremaining: 513ms\n",
            "528:\tlearn: 0.1674809\ttotal: 575ms\tremaining: 512ms\n",
            "529:\tlearn: 0.1673280\ttotal: 576ms\tremaining: 511ms\n",
            "530:\tlearn: 0.1669876\ttotal: 578ms\tremaining: 510ms\n",
            "531:\tlearn: 0.1667098\ttotal: 579ms\tremaining: 510ms\n",
            "532:\tlearn: 0.1666242\ttotal: 580ms\tremaining: 508ms\n",
            "533:\tlearn: 0.1664400\ttotal: 581ms\tremaining: 507ms\n",
            "534:\tlearn: 0.1662955\ttotal: 582ms\tremaining: 506ms\n",
            "535:\tlearn: 0.1659437\ttotal: 583ms\tremaining: 505ms\n",
            "536:\tlearn: 0.1657424\ttotal: 584ms\tremaining: 504ms\n",
            "537:\tlearn: 0.1654808\ttotal: 585ms\tremaining: 502ms\n",
            "538:\tlearn: 0.1651739\ttotal: 586ms\tremaining: 501ms\n",
            "539:\tlearn: 0.1649127\ttotal: 587ms\tremaining: 500ms\n",
            "540:\tlearn: 0.1646781\ttotal: 588ms\tremaining: 499ms\n",
            "541:\tlearn: 0.1644006\ttotal: 589ms\tremaining: 498ms\n",
            "542:\tlearn: 0.1641442\ttotal: 590ms\tremaining: 497ms\n",
            "543:\tlearn: 0.1638268\ttotal: 591ms\tremaining: 496ms\n",
            "544:\tlearn: 0.1636604\ttotal: 592ms\tremaining: 495ms\n",
            "545:\tlearn: 0.1634983\ttotal: 593ms\tremaining: 493ms\n",
            "546:\tlearn: 0.1632423\ttotal: 595ms\tremaining: 492ms\n",
            "547:\tlearn: 0.1630999\ttotal: 596ms\tremaining: 491ms\n",
            "548:\tlearn: 0.1629291\ttotal: 597ms\tremaining: 490ms\n",
            "549:\tlearn: 0.1626563\ttotal: 598ms\tremaining: 489ms\n",
            "550:\tlearn: 0.1625224\ttotal: 599ms\tremaining: 488ms\n",
            "551:\tlearn: 0.1623644\ttotal: 600ms\tremaining: 487ms\n",
            "552:\tlearn: 0.1621945\ttotal: 601ms\tremaining: 486ms\n",
            "553:\tlearn: 0.1618860\ttotal: 602ms\tremaining: 484ms\n",
            "554:\tlearn: 0.1616425\ttotal: 603ms\tremaining: 483ms\n",
            "555:\tlearn: 0.1614453\ttotal: 604ms\tremaining: 482ms\n",
            "556:\tlearn: 0.1612586\ttotal: 605ms\tremaining: 481ms\n",
            "557:\tlearn: 0.1611264\ttotal: 606ms\tremaining: 480ms\n",
            "558:\tlearn: 0.1609944\ttotal: 607ms\tremaining: 479ms\n",
            "559:\tlearn: 0.1608203\ttotal: 608ms\tremaining: 477ms\n",
            "560:\tlearn: 0.1606181\ttotal: 609ms\tremaining: 476ms\n",
            "561:\tlearn: 0.1603225\ttotal: 610ms\tremaining: 475ms\n",
            "562:\tlearn: 0.1601738\ttotal: 611ms\tremaining: 474ms\n",
            "563:\tlearn: 0.1598678\ttotal: 611ms\tremaining: 473ms\n",
            "564:\tlearn: 0.1597384\ttotal: 612ms\tremaining: 472ms\n",
            "565:\tlearn: 0.1596083\ttotal: 613ms\tremaining: 470ms\n",
            "566:\tlearn: 0.1591719\ttotal: 614ms\tremaining: 469ms\n",
            "567:\tlearn: 0.1590159\ttotal: 615ms\tremaining: 468ms\n",
            "568:\tlearn: 0.1587033\ttotal: 616ms\tremaining: 467ms\n",
            "569:\tlearn: 0.1585069\ttotal: 617ms\tremaining: 466ms\n",
            "570:\tlearn: 0.1583329\ttotal: 618ms\tremaining: 465ms\n",
            "571:\tlearn: 0.1581427\ttotal: 619ms\tremaining: 463ms\n",
            "572:\tlearn: 0.1579562\ttotal: 620ms\tremaining: 462ms\n",
            "573:\tlearn: 0.1576950\ttotal: 621ms\tremaining: 461ms\n",
            "574:\tlearn: 0.1573795\ttotal: 622ms\tremaining: 460ms\n",
            "575:\tlearn: 0.1571394\ttotal: 623ms\tremaining: 459ms\n",
            "576:\tlearn: 0.1568993\ttotal: 624ms\tremaining: 458ms\n",
            "577:\tlearn: 0.1566555\ttotal: 625ms\tremaining: 456ms\n",
            "578:\tlearn: 0.1563439\ttotal: 626ms\tremaining: 455ms\n",
            "579:\tlearn: 0.1561083\ttotal: 627ms\tremaining: 454ms\n",
            "580:\tlearn: 0.1558155\ttotal: 628ms\tremaining: 453ms\n",
            "581:\tlearn: 0.1555489\ttotal: 629ms\tremaining: 452ms\n",
            "582:\tlearn: 0.1551085\ttotal: 630ms\tremaining: 451ms\n",
            "583:\tlearn: 0.1548974\ttotal: 632ms\tremaining: 450ms\n",
            "584:\tlearn: 0.1547199\ttotal: 633ms\tremaining: 449ms\n",
            "585:\tlearn: 0.1545822\ttotal: 634ms\tremaining: 448ms\n",
            "586:\tlearn: 0.1544104\ttotal: 635ms\tremaining: 447ms\n",
            "587:\tlearn: 0.1541673\ttotal: 636ms\tremaining: 445ms\n",
            "588:\tlearn: 0.1539425\ttotal: 637ms\tremaining: 444ms\n",
            "589:\tlearn: 0.1536195\ttotal: 638ms\tremaining: 443ms\n",
            "590:\tlearn: 0.1534303\ttotal: 639ms\tremaining: 442ms\n",
            "591:\tlearn: 0.1531743\ttotal: 640ms\tremaining: 441ms\n",
            "592:\tlearn: 0.1529378\ttotal: 641ms\tremaining: 440ms\n",
            "593:\tlearn: 0.1526032\ttotal: 642ms\tremaining: 439ms\n",
            "594:\tlearn: 0.1523785\ttotal: 643ms\tremaining: 437ms\n",
            "595:\tlearn: 0.1520668\ttotal: 644ms\tremaining: 436ms\n",
            "596:\tlearn: 0.1519213\ttotal: 645ms\tremaining: 435ms\n",
            "597:\tlearn: 0.1517994\ttotal: 646ms\tremaining: 434ms\n",
            "598:\tlearn: 0.1514287\ttotal: 647ms\tremaining: 433ms\n",
            "599:\tlearn: 0.1512628\ttotal: 647ms\tremaining: 432ms\n",
            "600:\tlearn: 0.1511249\ttotal: 648ms\tremaining: 430ms\n",
            "601:\tlearn: 0.1508506\ttotal: 649ms\tremaining: 429ms\n",
            "602:\tlearn: 0.1506211\ttotal: 650ms\tremaining: 428ms\n",
            "603:\tlearn: 0.1504018\ttotal: 651ms\tremaining: 427ms\n",
            "604:\tlearn: 0.1501431\ttotal: 652ms\tremaining: 426ms\n",
            "605:\tlearn: 0.1499702\ttotal: 653ms\tremaining: 425ms\n",
            "606:\tlearn: 0.1498226\ttotal: 654ms\tremaining: 424ms\n",
            "607:\tlearn: 0.1496765\ttotal: 656ms\tremaining: 423ms\n",
            "608:\tlearn: 0.1494455\ttotal: 657ms\tremaining: 422ms\n",
            "609:\tlearn: 0.1493595\ttotal: 657ms\tremaining: 420ms\n",
            "610:\tlearn: 0.1490405\ttotal: 658ms\tremaining: 419ms\n",
            "611:\tlearn: 0.1488241\ttotal: 659ms\tremaining: 418ms\n",
            "612:\tlearn: 0.1485528\ttotal: 660ms\tremaining: 417ms\n",
            "613:\tlearn: 0.1483486\ttotal: 661ms\tremaining: 416ms\n",
            "614:\tlearn: 0.1481283\ttotal: 662ms\tremaining: 415ms\n",
            "615:\tlearn: 0.1478287\ttotal: 663ms\tremaining: 414ms\n",
            "616:\tlearn: 0.1476498\ttotal: 664ms\tremaining: 412ms\n",
            "617:\tlearn: 0.1473750\ttotal: 665ms\tremaining: 411ms\n",
            "618:\tlearn: 0.1472235\ttotal: 666ms\tremaining: 410ms\n",
            "619:\tlearn: 0.1470298\ttotal: 667ms\tremaining: 409ms\n",
            "620:\tlearn: 0.1469017\ttotal: 669ms\tremaining: 408ms\n",
            "621:\tlearn: 0.1467287\ttotal: 670ms\tremaining: 407ms\n",
            "622:\tlearn: 0.1465609\ttotal: 671ms\tremaining: 406ms\n",
            "623:\tlearn: 0.1463544\ttotal: 672ms\tremaining: 405ms\n",
            "624:\tlearn: 0.1462141\ttotal: 673ms\tremaining: 404ms\n",
            "625:\tlearn: 0.1459094\ttotal: 674ms\tremaining: 403ms\n",
            "626:\tlearn: 0.1457446\ttotal: 675ms\tremaining: 401ms\n",
            "627:\tlearn: 0.1454114\ttotal: 676ms\tremaining: 400ms\n",
            "628:\tlearn: 0.1452837\ttotal: 677ms\tremaining: 399ms\n",
            "629:\tlearn: 0.1450596\ttotal: 678ms\tremaining: 398ms\n",
            "630:\tlearn: 0.1448344\ttotal: 679ms\tremaining: 397ms\n",
            "631:\tlearn: 0.1445648\ttotal: 679ms\tremaining: 396ms\n",
            "632:\tlearn: 0.1443309\ttotal: 680ms\tremaining: 394ms\n",
            "633:\tlearn: 0.1441096\ttotal: 681ms\tremaining: 393ms\n",
            "634:\tlearn: 0.1439863\ttotal: 682ms\tremaining: 392ms\n",
            "635:\tlearn: 0.1437283\ttotal: 683ms\tremaining: 391ms\n",
            "636:\tlearn: 0.1435797\ttotal: 684ms\tremaining: 390ms\n",
            "637:\tlearn: 0.1433557\ttotal: 685ms\tremaining: 389ms\n",
            "638:\tlearn: 0.1432680\ttotal: 687ms\tremaining: 388ms\n",
            "639:\tlearn: 0.1431574\ttotal: 687ms\tremaining: 387ms\n",
            "640:\tlearn: 0.1430112\ttotal: 688ms\tremaining: 386ms\n",
            "641:\tlearn: 0.1426891\ttotal: 689ms\tremaining: 384ms\n",
            "642:\tlearn: 0.1425709\ttotal: 690ms\tremaining: 383ms\n",
            "643:\tlearn: 0.1424489\ttotal: 691ms\tremaining: 382ms\n",
            "644:\tlearn: 0.1422921\ttotal: 693ms\tremaining: 381ms\n",
            "645:\tlearn: 0.1422698\ttotal: 693ms\tremaining: 380ms\n",
            "646:\tlearn: 0.1420834\ttotal: 694ms\tremaining: 379ms\n",
            "647:\tlearn: 0.1419649\ttotal: 695ms\tremaining: 378ms\n",
            "648:\tlearn: 0.1416338\ttotal: 700ms\tremaining: 379ms\n",
            "649:\tlearn: 0.1414637\ttotal: 702ms\tremaining: 378ms\n",
            "650:\tlearn: 0.1412165\ttotal: 704ms\tremaining: 378ms\n",
            "651:\tlearn: 0.1410656\ttotal: 707ms\tremaining: 377ms\n",
            "652:\tlearn: 0.1410029\ttotal: 708ms\tremaining: 376ms\n",
            "653:\tlearn: 0.1407976\ttotal: 709ms\tremaining: 375ms\n",
            "654:\tlearn: 0.1406993\ttotal: 710ms\tremaining: 374ms\n",
            "655:\tlearn: 0.1405123\ttotal: 711ms\tremaining: 373ms\n",
            "656:\tlearn: 0.1402731\ttotal: 712ms\tremaining: 372ms\n",
            "657:\tlearn: 0.1400571\ttotal: 713ms\tremaining: 371ms\n",
            "658:\tlearn: 0.1397826\ttotal: 714ms\tremaining: 370ms\n",
            "659:\tlearn: 0.1395867\ttotal: 715ms\tremaining: 368ms\n",
            "660:\tlearn: 0.1394868\ttotal: 716ms\tremaining: 367ms\n",
            "661:\tlearn: 0.1392820\ttotal: 718ms\tremaining: 367ms\n",
            "662:\tlearn: 0.1392101\ttotal: 720ms\tremaining: 366ms\n",
            "663:\tlearn: 0.1390488\ttotal: 721ms\tremaining: 365ms\n",
            "664:\tlearn: 0.1389595\ttotal: 722ms\tremaining: 364ms\n",
            "665:\tlearn: 0.1388519\ttotal: 726ms\tremaining: 364ms\n",
            "666:\tlearn: 0.1387541\ttotal: 727ms\tremaining: 363ms\n",
            "667:\tlearn: 0.1384645\ttotal: 728ms\tremaining: 362ms\n",
            "668:\tlearn: 0.1381619\ttotal: 729ms\tremaining: 361ms\n",
            "669:\tlearn: 0.1380335\ttotal: 730ms\tremaining: 360ms\n",
            "670:\tlearn: 0.1378334\ttotal: 731ms\tremaining: 358ms\n",
            "671:\tlearn: 0.1376985\ttotal: 732ms\tremaining: 357ms\n",
            "672:\tlearn: 0.1374899\ttotal: 733ms\tremaining: 356ms\n",
            "673:\tlearn: 0.1372971\ttotal: 734ms\tremaining: 355ms\n",
            "674:\tlearn: 0.1371730\ttotal: 735ms\tremaining: 354ms\n",
            "675:\tlearn: 0.1370414\ttotal: 736ms\tremaining: 353ms\n",
            "676:\tlearn: 0.1368665\ttotal: 737ms\tremaining: 351ms\n",
            "677:\tlearn: 0.1367950\ttotal: 738ms\tremaining: 350ms\n",
            "678:\tlearn: 0.1365849\ttotal: 739ms\tremaining: 349ms\n",
            "679:\tlearn: 0.1364723\ttotal: 740ms\tremaining: 348ms\n",
            "680:\tlearn: 0.1363583\ttotal: 741ms\tremaining: 347ms\n",
            "681:\tlearn: 0.1361622\ttotal: 741ms\tremaining: 346ms\n",
            "682:\tlearn: 0.1359717\ttotal: 742ms\tremaining: 345ms\n",
            "683:\tlearn: 0.1357762\ttotal: 743ms\tremaining: 343ms\n",
            "684:\tlearn: 0.1356299\ttotal: 745ms\tremaining: 342ms\n",
            "685:\tlearn: 0.1354672\ttotal: 746ms\tremaining: 341ms\n",
            "686:\tlearn: 0.1353151\ttotal: 747ms\tremaining: 340ms\n",
            "687:\tlearn: 0.1351507\ttotal: 748ms\tremaining: 339ms\n",
            "688:\tlearn: 0.1350265\ttotal: 749ms\tremaining: 338ms\n",
            "689:\tlearn: 0.1349507\ttotal: 749ms\tremaining: 337ms\n",
            "690:\tlearn: 0.1348792\ttotal: 750ms\tremaining: 336ms\n",
            "691:\tlearn: 0.1347412\ttotal: 751ms\tremaining: 334ms\n",
            "692:\tlearn: 0.1344738\ttotal: 752ms\tremaining: 333ms\n",
            "693:\tlearn: 0.1341882\ttotal: 753ms\tremaining: 332ms\n",
            "694:\tlearn: 0.1339589\ttotal: 754ms\tremaining: 331ms\n",
            "695:\tlearn: 0.1337742\ttotal: 755ms\tremaining: 330ms\n",
            "696:\tlearn: 0.1336508\ttotal: 756ms\tremaining: 329ms\n",
            "697:\tlearn: 0.1335162\ttotal: 757ms\tremaining: 328ms\n",
            "698:\tlearn: 0.1332698\ttotal: 758ms\tremaining: 326ms\n",
            "699:\tlearn: 0.1330556\ttotal: 759ms\tremaining: 325ms\n",
            "700:\tlearn: 0.1329274\ttotal: 760ms\tremaining: 324ms\n",
            "701:\tlearn: 0.1326570\ttotal: 761ms\tremaining: 323ms\n",
            "702:\tlearn: 0.1325709\ttotal: 762ms\tremaining: 322ms\n",
            "703:\tlearn: 0.1323936\ttotal: 763ms\tremaining: 321ms\n",
            "704:\tlearn: 0.1323048\ttotal: 764ms\tremaining: 320ms\n",
            "705:\tlearn: 0.1321000\ttotal: 765ms\tremaining: 319ms\n",
            "706:\tlearn: 0.1319194\ttotal: 766ms\tremaining: 317ms\n",
            "707:\tlearn: 0.1317136\ttotal: 767ms\tremaining: 316ms\n",
            "708:\tlearn: 0.1315382\ttotal: 768ms\tremaining: 315ms\n",
            "709:\tlearn: 0.1313769\ttotal: 769ms\tremaining: 314ms\n",
            "710:\tlearn: 0.1312011\ttotal: 770ms\tremaining: 313ms\n",
            "711:\tlearn: 0.1310343\ttotal: 771ms\tremaining: 312ms\n",
            "712:\tlearn: 0.1309205\ttotal: 772ms\tremaining: 311ms\n",
            "713:\tlearn: 0.1307561\ttotal: 773ms\tremaining: 309ms\n",
            "714:\tlearn: 0.1306613\ttotal: 773ms\tremaining: 308ms\n",
            "715:\tlearn: 0.1304856\ttotal: 774ms\tremaining: 307ms\n",
            "716:\tlearn: 0.1302214\ttotal: 775ms\tremaining: 306ms\n",
            "717:\tlearn: 0.1301657\ttotal: 776ms\tremaining: 305ms\n",
            "718:\tlearn: 0.1299796\ttotal: 777ms\tremaining: 304ms\n",
            "719:\tlearn: 0.1298679\ttotal: 778ms\tremaining: 303ms\n",
            "720:\tlearn: 0.1297435\ttotal: 779ms\tremaining: 301ms\n",
            "721:\tlearn: 0.1295395\ttotal: 780ms\tremaining: 300ms\n",
            "722:\tlearn: 0.1294821\ttotal: 781ms\tremaining: 299ms\n",
            "723:\tlearn: 0.1293178\ttotal: 782ms\tremaining: 298ms\n",
            "724:\tlearn: 0.1292787\ttotal: 783ms\tremaining: 297ms\n",
            "725:\tlearn: 0.1292391\ttotal: 783ms\tremaining: 296ms\n",
            "726:\tlearn: 0.1290669\ttotal: 784ms\tremaining: 294ms\n",
            "727:\tlearn: 0.1289692\ttotal: 785ms\tremaining: 293ms\n",
            "728:\tlearn: 0.1287236\ttotal: 786ms\tremaining: 292ms\n",
            "729:\tlearn: 0.1285137\ttotal: 787ms\tremaining: 291ms\n",
            "730:\tlearn: 0.1282711\ttotal: 788ms\tremaining: 290ms\n",
            "731:\tlearn: 0.1280678\ttotal: 789ms\tremaining: 289ms\n",
            "732:\tlearn: 0.1279077\ttotal: 790ms\tremaining: 288ms\n",
            "733:\tlearn: 0.1277551\ttotal: 791ms\tremaining: 287ms\n",
            "734:\tlearn: 0.1276053\ttotal: 792ms\tremaining: 285ms\n",
            "735:\tlearn: 0.1274809\ttotal: 793ms\tremaining: 284ms\n",
            "736:\tlearn: 0.1273813\ttotal: 794ms\tremaining: 283ms\n",
            "737:\tlearn: 0.1271050\ttotal: 795ms\tremaining: 282ms\n",
            "738:\tlearn: 0.1270227\ttotal: 796ms\tremaining: 281ms\n",
            "739:\tlearn: 0.1268765\ttotal: 796ms\tremaining: 280ms\n",
            "740:\tlearn: 0.1266569\ttotal: 797ms\tremaining: 279ms\n",
            "741:\tlearn: 0.1265584\ttotal: 798ms\tremaining: 278ms\n",
            "742:\tlearn: 0.1263144\ttotal: 799ms\tremaining: 276ms\n",
            "743:\tlearn: 0.1260895\ttotal: 800ms\tremaining: 275ms\n",
            "744:\tlearn: 0.1259579\ttotal: 801ms\tremaining: 274ms\n",
            "745:\tlearn: 0.1257923\ttotal: 802ms\tremaining: 273ms\n",
            "746:\tlearn: 0.1255476\ttotal: 803ms\tremaining: 272ms\n",
            "747:\tlearn: 0.1253995\ttotal: 804ms\tremaining: 271ms\n",
            "748:\tlearn: 0.1253172\ttotal: 805ms\tremaining: 270ms\n",
            "749:\tlearn: 0.1251539\ttotal: 806ms\tremaining: 269ms\n",
            "750:\tlearn: 0.1249735\ttotal: 807ms\tremaining: 268ms\n",
            "751:\tlearn: 0.1248690\ttotal: 808ms\tremaining: 266ms\n",
            "752:\tlearn: 0.1246193\ttotal: 809ms\tremaining: 265ms\n",
            "753:\tlearn: 0.1243648\ttotal: 810ms\tremaining: 264ms\n",
            "754:\tlearn: 0.1242670\ttotal: 811ms\tremaining: 263ms\n",
            "755:\tlearn: 0.1241828\ttotal: 812ms\tremaining: 262ms\n",
            "756:\tlearn: 0.1240493\ttotal: 813ms\tremaining: 261ms\n",
            "757:\tlearn: 0.1238418\ttotal: 814ms\tremaining: 260ms\n",
            "758:\tlearn: 0.1237481\ttotal: 815ms\tremaining: 259ms\n",
            "759:\tlearn: 0.1235608\ttotal: 816ms\tremaining: 258ms\n",
            "760:\tlearn: 0.1234904\ttotal: 817ms\tremaining: 256ms\n",
            "761:\tlearn: 0.1233657\ttotal: 818ms\tremaining: 255ms\n",
            "762:\tlearn: 0.1231798\ttotal: 819ms\tremaining: 254ms\n",
            "763:\tlearn: 0.1229865\ttotal: 819ms\tremaining: 253ms\n",
            "764:\tlearn: 0.1228491\ttotal: 820ms\tremaining: 252ms\n",
            "765:\tlearn: 0.1226934\ttotal: 821ms\tremaining: 251ms\n",
            "766:\tlearn: 0.1225830\ttotal: 822ms\tremaining: 250ms\n",
            "767:\tlearn: 0.1224878\ttotal: 823ms\tremaining: 249ms\n",
            "768:\tlearn: 0.1223560\ttotal: 824ms\tremaining: 248ms\n",
            "769:\tlearn: 0.1221601\ttotal: 825ms\tremaining: 247ms\n",
            "770:\tlearn: 0.1220578\ttotal: 826ms\tremaining: 245ms\n",
            "771:\tlearn: 0.1218694\ttotal: 827ms\tremaining: 244ms\n",
            "772:\tlearn: 0.1216872\ttotal: 828ms\tremaining: 243ms\n",
            "773:\tlearn: 0.1215643\ttotal: 829ms\tremaining: 242ms\n",
            "774:\tlearn: 0.1214392\ttotal: 830ms\tremaining: 241ms\n",
            "775:\tlearn: 0.1212068\ttotal: 831ms\tremaining: 240ms\n",
            "776:\tlearn: 0.1210732\ttotal: 832ms\tremaining: 239ms\n",
            "777:\tlearn: 0.1209216\ttotal: 833ms\tremaining: 238ms\n",
            "778:\tlearn: 0.1207649\ttotal: 834ms\tremaining: 237ms\n",
            "779:\tlearn: 0.1206059\ttotal: 835ms\tremaining: 235ms\n",
            "780:\tlearn: 0.1203967\ttotal: 836ms\tremaining: 234ms\n",
            "781:\tlearn: 0.1203648\ttotal: 836ms\tremaining: 233ms\n",
            "782:\tlearn: 0.1202133\ttotal: 837ms\tremaining: 232ms\n",
            "783:\tlearn: 0.1200792\ttotal: 838ms\tremaining: 231ms\n",
            "784:\tlearn: 0.1199782\ttotal: 839ms\tremaining: 230ms\n",
            "785:\tlearn: 0.1198531\ttotal: 840ms\tremaining: 229ms\n",
            "786:\tlearn: 0.1195758\ttotal: 841ms\tremaining: 228ms\n",
            "787:\tlearn: 0.1193521\ttotal: 842ms\tremaining: 227ms\n",
            "788:\tlearn: 0.1192167\ttotal: 843ms\tremaining: 225ms\n",
            "789:\tlearn: 0.1191468\ttotal: 844ms\tremaining: 224ms\n",
            "790:\tlearn: 0.1190499\ttotal: 845ms\tremaining: 223ms\n",
            "791:\tlearn: 0.1188630\ttotal: 846ms\tremaining: 222ms\n",
            "792:\tlearn: 0.1187765\ttotal: 847ms\tremaining: 221ms\n",
            "793:\tlearn: 0.1186400\ttotal: 848ms\tremaining: 220ms\n",
            "794:\tlearn: 0.1184673\ttotal: 849ms\tremaining: 219ms\n",
            "795:\tlearn: 0.1182077\ttotal: 850ms\tremaining: 218ms\n",
            "796:\tlearn: 0.1181006\ttotal: 851ms\tremaining: 217ms\n",
            "797:\tlearn: 0.1179870\ttotal: 853ms\tremaining: 216ms\n",
            "798:\tlearn: 0.1177845\ttotal: 854ms\tremaining: 215ms\n",
            "799:\tlearn: 0.1176153\ttotal: 855ms\tremaining: 214ms\n",
            "800:\tlearn: 0.1175436\ttotal: 855ms\tremaining: 213ms\n",
            "801:\tlearn: 0.1173121\ttotal: 856ms\tremaining: 211ms\n",
            "802:\tlearn: 0.1170723\ttotal: 857ms\tremaining: 210ms\n",
            "803:\tlearn: 0.1169686\ttotal: 859ms\tremaining: 209ms\n",
            "804:\tlearn: 0.1168882\ttotal: 860ms\tremaining: 208ms\n",
            "805:\tlearn: 0.1167870\ttotal: 861ms\tremaining: 207ms\n",
            "806:\tlearn: 0.1167015\ttotal: 862ms\tremaining: 206ms\n",
            "807:\tlearn: 0.1165439\ttotal: 863ms\tremaining: 205ms\n",
            "808:\tlearn: 0.1164938\ttotal: 863ms\tremaining: 204ms\n",
            "809:\tlearn: 0.1163891\ttotal: 864ms\tremaining: 203ms\n",
            "810:\tlearn: 0.1163482\ttotal: 865ms\tremaining: 202ms\n",
            "811:\tlearn: 0.1161911\ttotal: 866ms\tremaining: 201ms\n",
            "812:\tlearn: 0.1161058\ttotal: 867ms\tremaining: 199ms\n",
            "813:\tlearn: 0.1159085\ttotal: 868ms\tremaining: 198ms\n",
            "814:\tlearn: 0.1158054\ttotal: 869ms\tremaining: 197ms\n",
            "815:\tlearn: 0.1156589\ttotal: 870ms\tremaining: 196ms\n",
            "816:\tlearn: 0.1155786\ttotal: 871ms\tremaining: 195ms\n",
            "817:\tlearn: 0.1154015\ttotal: 872ms\tremaining: 194ms\n",
            "818:\tlearn: 0.1152660\ttotal: 873ms\tremaining: 193ms\n",
            "819:\tlearn: 0.1151003\ttotal: 874ms\tremaining: 192ms\n",
            "820:\tlearn: 0.1149926\ttotal: 875ms\tremaining: 191ms\n",
            "821:\tlearn: 0.1148083\ttotal: 876ms\tremaining: 190ms\n",
            "822:\tlearn: 0.1147283\ttotal: 877ms\tremaining: 189ms\n",
            "823:\tlearn: 0.1146895\ttotal: 878ms\tremaining: 188ms\n",
            "824:\tlearn: 0.1144127\ttotal: 879ms\tremaining: 186ms\n",
            "825:\tlearn: 0.1143527\ttotal: 880ms\tremaining: 185ms\n",
            "826:\tlearn: 0.1141431\ttotal: 881ms\tremaining: 184ms\n",
            "827:\tlearn: 0.1140060\ttotal: 882ms\tremaining: 183ms\n",
            "828:\tlearn: 0.1139631\ttotal: 883ms\tremaining: 182ms\n",
            "829:\tlearn: 0.1137778\ttotal: 884ms\tremaining: 181ms\n",
            "830:\tlearn: 0.1135329\ttotal: 885ms\tremaining: 180ms\n",
            "831:\tlearn: 0.1134279\ttotal: 886ms\tremaining: 179ms\n",
            "832:\tlearn: 0.1132905\ttotal: 887ms\tremaining: 178ms\n",
            "833:\tlearn: 0.1131636\ttotal: 888ms\tremaining: 177ms\n",
            "834:\tlearn: 0.1130578\ttotal: 889ms\tremaining: 176ms\n",
            "835:\tlearn: 0.1129004\ttotal: 889ms\tremaining: 174ms\n",
            "836:\tlearn: 0.1127529\ttotal: 890ms\tremaining: 173ms\n",
            "837:\tlearn: 0.1126209\ttotal: 891ms\tremaining: 172ms\n",
            "838:\tlearn: 0.1125247\ttotal: 892ms\tremaining: 171ms\n",
            "839:\tlearn: 0.1123950\ttotal: 893ms\tremaining: 170ms\n",
            "840:\tlearn: 0.1122282\ttotal: 894ms\tremaining: 169ms\n",
            "841:\tlearn: 0.1121262\ttotal: 895ms\tremaining: 168ms\n",
            "842:\tlearn: 0.1119350\ttotal: 896ms\tremaining: 167ms\n",
            "843:\tlearn: 0.1117536\ttotal: 897ms\tremaining: 166ms\n",
            "844:\tlearn: 0.1116498\ttotal: 898ms\tremaining: 165ms\n",
            "845:\tlearn: 0.1114991\ttotal: 899ms\tremaining: 164ms\n",
            "846:\tlearn: 0.1113163\ttotal: 900ms\tremaining: 163ms\n",
            "847:\tlearn: 0.1112651\ttotal: 901ms\tremaining: 161ms\n",
            "848:\tlearn: 0.1111117\ttotal: 903ms\tremaining: 161ms\n",
            "849:\tlearn: 0.1109705\ttotal: 904ms\tremaining: 160ms\n",
            "850:\tlearn: 0.1108003\ttotal: 906ms\tremaining: 159ms\n",
            "851:\tlearn: 0.1106651\ttotal: 907ms\tremaining: 158ms\n",
            "852:\tlearn: 0.1105478\ttotal: 910ms\tremaining: 157ms\n",
            "853:\tlearn: 0.1104338\ttotal: 915ms\tremaining: 156ms\n",
            "854:\tlearn: 0.1103124\ttotal: 916ms\tremaining: 155ms\n",
            "855:\tlearn: 0.1101881\ttotal: 917ms\tremaining: 154ms\n",
            "856:\tlearn: 0.1100790\ttotal: 918ms\tremaining: 153ms\n",
            "857:\tlearn: 0.1100047\ttotal: 919ms\tremaining: 152ms\n",
            "858:\tlearn: 0.1098378\ttotal: 920ms\tremaining: 151ms\n",
            "859:\tlearn: 0.1097288\ttotal: 921ms\tremaining: 150ms\n",
            "860:\tlearn: 0.1096032\ttotal: 922ms\tremaining: 149ms\n",
            "861:\tlearn: 0.1094298\ttotal: 923ms\tremaining: 148ms\n",
            "862:\tlearn: 0.1092614\ttotal: 924ms\tremaining: 147ms\n",
            "863:\tlearn: 0.1091612\ttotal: 925ms\tremaining: 146ms\n",
            "864:\tlearn: 0.1090257\ttotal: 926ms\tremaining: 145ms\n",
            "865:\tlearn: 0.1089023\ttotal: 927ms\tremaining: 143ms\n",
            "866:\tlearn: 0.1087817\ttotal: 928ms\tremaining: 142ms\n",
            "867:\tlearn: 0.1085758\ttotal: 929ms\tremaining: 141ms\n",
            "868:\tlearn: 0.1084482\ttotal: 930ms\tremaining: 140ms\n",
            "869:\tlearn: 0.1083161\ttotal: 931ms\tremaining: 139ms\n",
            "870:\tlearn: 0.1081783\ttotal: 932ms\tremaining: 138ms\n",
            "871:\tlearn: 0.1080389\ttotal: 933ms\tremaining: 137ms\n",
            "872:\tlearn: 0.1079061\ttotal: 934ms\tremaining: 136ms\n",
            "873:\tlearn: 0.1078208\ttotal: 935ms\tremaining: 135ms\n",
            "874:\tlearn: 0.1077744\ttotal: 936ms\tremaining: 134ms\n",
            "875:\tlearn: 0.1076596\ttotal: 937ms\tremaining: 133ms\n",
            "876:\tlearn: 0.1075718\ttotal: 938ms\tremaining: 132ms\n",
            "877:\tlearn: 0.1074180\ttotal: 939ms\tremaining: 130ms\n",
            "878:\tlearn: 0.1073221\ttotal: 940ms\tremaining: 129ms\n",
            "879:\tlearn: 0.1072015\ttotal: 941ms\tremaining: 128ms\n",
            "880:\tlearn: 0.1070822\ttotal: 942ms\tremaining: 127ms\n",
            "881:\tlearn: 0.1069717\ttotal: 943ms\tremaining: 126ms\n",
            "882:\tlearn: 0.1067685\ttotal: 944ms\tremaining: 125ms\n",
            "883:\tlearn: 0.1066224\ttotal: 945ms\tremaining: 124ms\n",
            "884:\tlearn: 0.1064917\ttotal: 947ms\tremaining: 123ms\n",
            "885:\tlearn: 0.1063585\ttotal: 954ms\tremaining: 123ms\n",
            "886:\tlearn: 0.1062077\ttotal: 956ms\tremaining: 122ms\n",
            "887:\tlearn: 0.1061233\ttotal: 958ms\tremaining: 121ms\n",
            "888:\tlearn: 0.1059508\ttotal: 960ms\tremaining: 120ms\n",
            "889:\tlearn: 0.1058766\ttotal: 961ms\tremaining: 119ms\n",
            "890:\tlearn: 0.1057566\ttotal: 962ms\tremaining: 118ms\n",
            "891:\tlearn: 0.1056379\ttotal: 963ms\tremaining: 117ms\n",
            "892:\tlearn: 0.1054912\ttotal: 964ms\tremaining: 116ms\n",
            "893:\tlearn: 0.1053097\ttotal: 965ms\tremaining: 114ms\n",
            "894:\tlearn: 0.1052312\ttotal: 966ms\tremaining: 113ms\n",
            "895:\tlearn: 0.1051146\ttotal: 967ms\tremaining: 112ms\n",
            "896:\tlearn: 0.1050041\ttotal: 968ms\tremaining: 111ms\n",
            "897:\tlearn: 0.1048625\ttotal: 969ms\tremaining: 110ms\n",
            "898:\tlearn: 0.1047085\ttotal: 970ms\tremaining: 109ms\n",
            "899:\tlearn: 0.1046428\ttotal: 971ms\tremaining: 108ms\n",
            "900:\tlearn: 0.1044929\ttotal: 972ms\tremaining: 107ms\n",
            "901:\tlearn: 0.1044129\ttotal: 973ms\tremaining: 106ms\n",
            "902:\tlearn: 0.1043046\ttotal: 974ms\tremaining: 105ms\n",
            "903:\tlearn: 0.1041726\ttotal: 975ms\tremaining: 104ms\n",
            "904:\tlearn: 0.1041653\ttotal: 976ms\tremaining: 102ms\n",
            "905:\tlearn: 0.1040263\ttotal: 977ms\tremaining: 101ms\n",
            "906:\tlearn: 0.1038707\ttotal: 977ms\tremaining: 100ms\n",
            "907:\tlearn: 0.1037056\ttotal: 978ms\tremaining: 99.1ms\n",
            "908:\tlearn: 0.1035997\ttotal: 979ms\tremaining: 98.1ms\n",
            "909:\tlearn: 0.1034699\ttotal: 980ms\tremaining: 97ms\n",
            "910:\tlearn: 0.1033266\ttotal: 981ms\tremaining: 95.9ms\n",
            "911:\tlearn: 0.1032348\ttotal: 982ms\tremaining: 94.8ms\n",
            "912:\tlearn: 0.1031162\ttotal: 983ms\tremaining: 93.7ms\n",
            "913:\tlearn: 0.1030342\ttotal: 984ms\tremaining: 92.6ms\n",
            "914:\tlearn: 0.1030223\ttotal: 985ms\tremaining: 91.5ms\n",
            "915:\tlearn: 0.1029745\ttotal: 986ms\tremaining: 90.4ms\n",
            "916:\tlearn: 0.1028104\ttotal: 987ms\tremaining: 89.4ms\n",
            "917:\tlearn: 0.1026354\ttotal: 988ms\tremaining: 88.3ms\n",
            "918:\tlearn: 0.1025816\ttotal: 989ms\tremaining: 87.2ms\n",
            "919:\tlearn: 0.1025264\ttotal: 990ms\tremaining: 86.1ms\n",
            "920:\tlearn: 0.1023887\ttotal: 991ms\tremaining: 85ms\n",
            "921:\tlearn: 0.1022989\ttotal: 992ms\tremaining: 83.9ms\n",
            "922:\tlearn: 0.1020615\ttotal: 993ms\tremaining: 82.8ms\n",
            "923:\tlearn: 0.1018815\ttotal: 994ms\tremaining: 81.7ms\n",
            "924:\tlearn: 0.1017725\ttotal: 995ms\tremaining: 80.7ms\n",
            "925:\tlearn: 0.1016049\ttotal: 996ms\tremaining: 79.6ms\n",
            "926:\tlearn: 0.1015299\ttotal: 997ms\tremaining: 78.5ms\n",
            "927:\tlearn: 0.1013840\ttotal: 998ms\tremaining: 77.4ms\n",
            "928:\tlearn: 0.1013065\ttotal: 999ms\tremaining: 76.3ms\n",
            "929:\tlearn: 0.1011716\ttotal: 1000ms\tremaining: 75.3ms\n",
            "930:\tlearn: 0.1010636\ttotal: 1s\tremaining: 74.2ms\n",
            "931:\tlearn: 0.1009129\ttotal: 1s\tremaining: 73.1ms\n",
            "932:\tlearn: 0.1007969\ttotal: 1s\tremaining: 72ms\n",
            "933:\tlearn: 0.1007058\ttotal: 1s\tremaining: 70.9ms\n",
            "934:\tlearn: 0.1005746\ttotal: 1s\tremaining: 69.8ms\n",
            "935:\tlearn: 0.1005046\ttotal: 1s\tremaining: 68.8ms\n",
            "936:\tlearn: 0.1003112\ttotal: 1.01s\tremaining: 67.7ms\n",
            "937:\tlearn: 0.1002305\ttotal: 1.01s\tremaining: 66.6ms\n",
            "938:\tlearn: 0.1000886\ttotal: 1.01s\tremaining: 65.5ms\n",
            "939:\tlearn: 0.0999208\ttotal: 1.01s\tremaining: 64.5ms\n",
            "940:\tlearn: 0.0997845\ttotal: 1.01s\tremaining: 63.4ms\n",
            "941:\tlearn: 0.0996411\ttotal: 1.01s\tremaining: 62.3ms\n",
            "942:\tlearn: 0.0995620\ttotal: 1.01s\tremaining: 61.2ms\n",
            "943:\tlearn: 0.0994857\ttotal: 1.01s\tremaining: 60.1ms\n",
            "944:\tlearn: 0.0993641\ttotal: 1.01s\tremaining: 59.1ms\n",
            "945:\tlearn: 0.0993292\ttotal: 1.01s\tremaining: 58ms\n",
            "946:\tlearn: 0.0992335\ttotal: 1.02s\tremaining: 56.9ms\n",
            "947:\tlearn: 0.0990912\ttotal: 1.02s\tremaining: 55.8ms\n",
            "948:\tlearn: 0.0990023\ttotal: 1.02s\tremaining: 54.7ms\n",
            "949:\tlearn: 0.0988262\ttotal: 1.02s\tremaining: 53.7ms\n",
            "950:\tlearn: 0.0987464\ttotal: 1.02s\tremaining: 52.6ms\n",
            "951:\tlearn: 0.0986263\ttotal: 1.02s\tremaining: 51.5ms\n",
            "952:\tlearn: 0.0984718\ttotal: 1.02s\tremaining: 50.4ms\n",
            "953:\tlearn: 0.0983530\ttotal: 1.02s\tremaining: 49.3ms\n",
            "954:\tlearn: 0.0982507\ttotal: 1.02s\tremaining: 48.3ms\n",
            "955:\tlearn: 0.0981569\ttotal: 1.02s\tremaining: 47.2ms\n",
            "956:\tlearn: 0.0980868\ttotal: 1.03s\tremaining: 46.1ms\n",
            "957:\tlearn: 0.0980475\ttotal: 1.03s\tremaining: 45ms\n",
            "958:\tlearn: 0.0979163\ttotal: 1.03s\tremaining: 44ms\n",
            "959:\tlearn: 0.0977823\ttotal: 1.03s\tremaining: 42.9ms\n",
            "960:\tlearn: 0.0976596\ttotal: 1.03s\tremaining: 41.8ms\n",
            "961:\tlearn: 0.0975160\ttotal: 1.03s\tremaining: 40.7ms\n",
            "962:\tlearn: 0.0973253\ttotal: 1.03s\tremaining: 39.6ms\n",
            "963:\tlearn: 0.0971654\ttotal: 1.03s\tremaining: 38.6ms\n",
            "964:\tlearn: 0.0970997\ttotal: 1.03s\tremaining: 37.5ms\n",
            "965:\tlearn: 0.0970576\ttotal: 1.03s\tremaining: 36.4ms\n",
            "966:\tlearn: 0.0969022\ttotal: 1.03s\tremaining: 35.3ms\n",
            "967:\tlearn: 0.0967395\ttotal: 1.04s\tremaining: 34.3ms\n",
            "968:\tlearn: 0.0966194\ttotal: 1.04s\tremaining: 33.2ms\n",
            "969:\tlearn: 0.0965126\ttotal: 1.04s\tremaining: 32.1ms\n",
            "970:\tlearn: 0.0964379\ttotal: 1.04s\tremaining: 31.1ms\n",
            "971:\tlearn: 0.0963376\ttotal: 1.04s\tremaining: 30ms\n",
            "972:\tlearn: 0.0962181\ttotal: 1.04s\tremaining: 28.9ms\n",
            "973:\tlearn: 0.0961390\ttotal: 1.04s\tremaining: 27.8ms\n",
            "974:\tlearn: 0.0959990\ttotal: 1.04s\tremaining: 26.8ms\n",
            "975:\tlearn: 0.0959410\ttotal: 1.04s\tremaining: 25.7ms\n",
            "976:\tlearn: 0.0958994\ttotal: 1.04s\tremaining: 24.6ms\n",
            "977:\tlearn: 0.0957982\ttotal: 1.05s\tremaining: 23.5ms\n",
            "978:\tlearn: 0.0956405\ttotal: 1.05s\tremaining: 22.5ms\n",
            "979:\tlearn: 0.0954834\ttotal: 1.05s\tremaining: 21.4ms\n",
            "980:\tlearn: 0.0953314\ttotal: 1.05s\tremaining: 20.3ms\n",
            "981:\tlearn: 0.0952316\ttotal: 1.05s\tremaining: 19.3ms\n",
            "982:\tlearn: 0.0951718\ttotal: 1.05s\tremaining: 18.2ms\n",
            "983:\tlearn: 0.0950544\ttotal: 1.05s\tremaining: 17.1ms\n",
            "984:\tlearn: 0.0949170\ttotal: 1.05s\tremaining: 16ms\n",
            "985:\tlearn: 0.0948019\ttotal: 1.05s\tremaining: 15ms\n",
            "986:\tlearn: 0.0946526\ttotal: 1.05s\tremaining: 13.9ms\n",
            "987:\tlearn: 0.0944596\ttotal: 1.06s\tremaining: 12.8ms\n",
            "988:\tlearn: 0.0943399\ttotal: 1.06s\tremaining: 11.8ms\n",
            "989:\tlearn: 0.0942371\ttotal: 1.06s\tremaining: 10.7ms\n",
            "990:\tlearn: 0.0941353\ttotal: 1.06s\tremaining: 9.62ms\n",
            "991:\tlearn: 0.0940777\ttotal: 1.06s\tremaining: 8.55ms\n",
            "992:\tlearn: 0.0940108\ttotal: 1.06s\tremaining: 7.48ms\n",
            "993:\tlearn: 0.0938982\ttotal: 1.06s\tremaining: 6.41ms\n",
            "994:\tlearn: 0.0938175\ttotal: 1.06s\tremaining: 5.34ms\n",
            "995:\tlearn: 0.0937354\ttotal: 1.06s\tremaining: 4.27ms\n",
            "996:\tlearn: 0.0936270\ttotal: 1.06s\tremaining: 3.2ms\n",
            "997:\tlearn: 0.0935173\ttotal: 1.06s\tremaining: 2.13ms\n",
            "998:\tlearn: 0.0933827\ttotal: 1.07s\tremaining: 1.07ms\n",
            "999:\tlearn: 0.0933189\ttotal: 1.07s\tremaining: 0us\n"
          ],
          "name": "stdout"
        },
        {
          "output_type": "execute_result",
          "data": {
            "text/plain": [
              "0.7894736842105263"
            ]
          },
          "metadata": {
            "tags": []
          },
          "execution_count": 10
        }
      ]
    },
    {
      "cell_type": "code",
      "metadata": {
        "colab": {
          "base_uri": "https://localhost:8080/"
        },
        "id": "NfVpUb_8f4ky",
        "outputId": "e9a71a32-a63f-42dc-ae42-442e424a87e0"
      },
      "source": [
        "xgb=XGBClassifier()\n",
        "xgb.fit(X_train,y_train)\n",
        "xgb.score(X_test,y_test)"
      ],
      "execution_count": 11,
      "outputs": [
        {
          "output_type": "execute_result",
          "data": {
            "text/plain": [
              "0.7368421052631579"
            ]
          },
          "metadata": {
            "tags": []
          },
          "execution_count": 11
        }
      ]
    },
    {
      "cell_type": "code",
      "metadata": {
        "colab": {
          "base_uri": "https://localhost:8080/"
        },
        "id": "mjFWYVTTf71k",
        "outputId": "3d54890d-e2fa-401d-97f6-be4bb70ce8f5"
      },
      "source": [
        "lgbm=LGBMClassifier()\n",
        "lgbm.fit(X_train,y_train)\n",
        "lgbm.score(X_test,y_test)"
      ],
      "execution_count": 12,
      "outputs": [
        {
          "output_type": "execute_result",
          "data": {
            "text/plain": [
              "0.7631578947368421"
            ]
          },
          "metadata": {
            "tags": []
          },
          "execution_count": 12
        }
      ]
    },
    {
      "cell_type": "code",
      "metadata": {
        "colab": {
          "base_uri": "https://localhost:8080/"
        },
        "id": "XGmjmGAof9Xz",
        "outputId": "d30f19d8-aa37-4980-caea-31d7705fe150"
      },
      "source": [
        "model=KNeighborsClassifier(n_neighbors=1)\n",
        "model.fit(X_train,y_train)\n",
        "model.score(X_test,y_test)\n",
        "\n",
        "#less score than others"
      ],
      "execution_count": 13,
      "outputs": [
        {
          "output_type": "execute_result",
          "data": {
            "text/plain": [
              "0.5"
            ]
          },
          "metadata": {
            "tags": []
          },
          "execution_count": 13
        }
      ]
    },
    {
      "cell_type": "markdown",
      "metadata": {
        "id": "4HZ7P6NjgFlg"
      },
      "source": [
        "### Above Models are around 82%(except knn) accurate but we didn't tuned them., In next series of code we'll be doing hyper-parameter tuning."
      ]
    },
    {
      "cell_type": "markdown",
      "metadata": {
        "id": "uhR7PBVBg_4e"
      },
      "source": [
        "## Let's improve our KNN model which previously gave around 61% score"
      ]
    },
    {
      "cell_type": "code",
      "metadata": {
        "id": "Ycc6J79-gwmJ"
      },
      "source": [
        "kfold=KFold(n_splits=5)\n",
        "skfold=StratifiedKFold(n_splits=5,shuffle=True)\n",
        "ss=ShuffleSplit(n_splits=8,train_size=.4,test_size=.3)\n",
        "rs=RepeatedStratifiedKFold(n_splits=5,n_repeats=10)"
      ],
      "execution_count": 14,
      "outputs": []
    },
    {
      "cell_type": "code",
      "metadata": {
        "colab": {
          "base_uri": "https://localhost:8080/"
        },
        "id": "2hEqSLf7hUkV",
        "outputId": "c77c9fd5-93f1-4b68-f5f2-d94feb9a3e3a"
      },
      "source": [
        "print(\"KFold: \",cross_val_score(KNeighborsClassifier(),X,y,cv=kfold))\n",
        "print(\"skfold: \",cross_val_score(KNeighborsClassifier(),X,y,cv=skfold))\n",
        "print(\"ShuffleSplit: \",cross_val_score(KNeighborsClassifier(),X,y,cv=ss))\n",
        "print(\"RepeatedStratifiedKFold: \",cross_val_score(KNeighborsClassifier(),X,y,cv=rs))\n"
      ],
      "execution_count": 15,
      "outputs": [
        {
          "output_type": "stream",
          "text": [
            "KFold:  [0.47540984 0.63934426 0.67213115 0.38333333 0.31666667]\n",
            "skfold:  [0.70491803 0.68852459 0.52459016 0.68333333 0.56666667]\n",
            "ShuffleSplit:  [0.59340659 0.63736264 0.61538462 0.56043956 0.65934066 0.65934066\n",
            " 0.59340659 0.64835165]\n",
            "RepeatedStratifiedKFold:  [0.59016393 0.67213115 0.72131148 0.65       0.65       0.6557377\n",
            " 0.68852459 0.6557377  0.71666667 0.6        0.68852459 0.63934426\n",
            " 0.63934426 0.65       0.66666667 0.63934426 0.70491803 0.63934426\n",
            " 0.61666667 0.66666667 0.59016393 0.62295082 0.6557377  0.61666667\n",
            " 0.65       0.45901639 0.70491803 0.72131148 0.7        0.65\n",
            " 0.60655738 0.60655738 0.6557377  0.68333333 0.56666667 0.6557377\n",
            " 0.72131148 0.73770492 0.61666667 0.66666667 0.57377049 0.6557377\n",
            " 0.72131148 0.61666667 0.71666667 0.6557377  0.70491803 0.7704918\n",
            " 0.68333333 0.63333333]\n"
          ],
          "name": "stdout"
        }
      ]
    },
    {
      "cell_type": "markdown",
      "metadata": {
        "id": "wFRbY2aFhaQk"
      },
      "source": [
        "*KNN score is nearly 70% accurate in RepeatedStratifiedKFold*"
      ]
    },
    {
      "cell_type": "code",
      "metadata": {
        "colab": {
          "base_uri": "https://localhost:8080/"
        },
        "id": "FIAKKhVuhXgk",
        "outputId": "319d4ff8-af1d-45dc-fc03-fe759f282f8f"
      },
      "source": [
        "from sklearn.model_selection import GridSearchCV\n",
        "param_grid={'max_depth':range(1,7)}\n",
        "grid=GridSearchCV(DecisionTreeClassifier(random_state=0),param_grid=param_grid,cv=10)\n",
        "grid.fit(X_train,y_train)"
      ],
      "execution_count": 16,
      "outputs": [
        {
          "output_type": "execute_result",
          "data": {
            "text/plain": [
              "GridSearchCV(cv=10, error_score=nan,\n",
              "             estimator=DecisionTreeClassifier(ccp_alpha=0.0, class_weight=None,\n",
              "                                              criterion='gini', max_depth=None,\n",
              "                                              max_features=None,\n",
              "                                              max_leaf_nodes=None,\n",
              "                                              min_impurity_decrease=0.0,\n",
              "                                              min_impurity_split=None,\n",
              "                                              min_samples_leaf=1,\n",
              "                                              min_samples_split=2,\n",
              "                                              min_weight_fraction_leaf=0.0,\n",
              "                                              presort='deprecated',\n",
              "                                              random_state=0, splitter='best'),\n",
              "             iid='deprecated', n_jobs=None,\n",
              "             param_grid={'max_depth': range(1, 7)}, pre_dispatch='2*n_jobs',\n",
              "             refit=True, return_train_score=False, scoring=None, verbose=0)"
            ]
          },
          "metadata": {
            "tags": []
          },
          "execution_count": 16
        }
      ]
    },
    {
      "cell_type": "code",
      "metadata": {
        "colab": {
          "base_uri": "https://localhost:8080/"
        },
        "id": "Rg6IpFoKh2sq",
        "outputId": "277caee8-cb24-4e59-9902-383d45710251"
      },
      "source": [
        "print(\"Best Score: \",grid.score(X_test,y_test))"
      ],
      "execution_count": 17,
      "outputs": [
        {
          "output_type": "stream",
          "text": [
            "Best Score:  0.6973684210526315\n"
          ],
          "name": "stdout"
        }
      ]
    },
    {
      "cell_type": "markdown",
      "metadata": {
        "id": "cw7RZQlTh6Nl"
      },
      "source": [
        "*Even decision tree gave us best score of 82, Let's improve our KNN model more*"
      ]
    },
    {
      "cell_type": "markdown",
      "metadata": {
        "id": "QP-K2zkniXpg"
      },
      "source": [
        "# We know that KNN is distance based matric and so this time we are going to do some data preprocessing"
      ]
    },
    {
      "cell_type": "code",
      "metadata": {
        "id": "1GicL6Q3h5uY"
      },
      "source": [
        "data=pd.get_dummies(df,columns=['cp','fbs','restecg','exang','slope','ca','thal'])\n",
        "data['trestbps']=data['trestbps']/200\n",
        "data['chol']=data['chol']/564\n",
        "data['thalach']=data['thalach']/564"
      ],
      "execution_count": 18,
      "outputs": []
    },
    {
      "cell_type": "code",
      "metadata": {
        "colab": {
          "base_uri": "https://localhost:8080/",
          "height": 211
        },
        "id": "-mFy17qEh40U",
        "outputId": "5e6b6fb4-32dc-43c2-b52c-abd0bddced74"
      },
      "source": [
        "data.head(5)"
      ],
      "execution_count": 19,
      "outputs": [
        {
          "output_type": "execute_result",
          "data": {
            "text/html": [
              "<div>\n",
              "<style scoped>\n",
              "    .dataframe tbody tr th:only-of-type {\n",
              "        vertical-align: middle;\n",
              "    }\n",
              "\n",
              "    .dataframe tbody tr th {\n",
              "        vertical-align: top;\n",
              "    }\n",
              "\n",
              "    .dataframe thead th {\n",
              "        text-align: right;\n",
              "    }\n",
              "</style>\n",
              "<table border=\"1\" class=\"dataframe\">\n",
              "  <thead>\n",
              "    <tr style=\"text-align: right;\">\n",
              "      <th></th>\n",
              "      <th>age</th>\n",
              "      <th>sex</th>\n",
              "      <th>trestbps</th>\n",
              "      <th>chol</th>\n",
              "      <th>thalach</th>\n",
              "      <th>oldpeak</th>\n",
              "      <th>target</th>\n",
              "      <th>cp_0</th>\n",
              "      <th>cp_1</th>\n",
              "      <th>cp_2</th>\n",
              "      <th>cp_3</th>\n",
              "      <th>fbs_0</th>\n",
              "      <th>fbs_1</th>\n",
              "      <th>restecg_0</th>\n",
              "      <th>restecg_1</th>\n",
              "      <th>restecg_2</th>\n",
              "      <th>exang_0</th>\n",
              "      <th>exang_1</th>\n",
              "      <th>slope_0</th>\n",
              "      <th>slope_1</th>\n",
              "      <th>slope_2</th>\n",
              "      <th>ca_0</th>\n",
              "      <th>ca_1</th>\n",
              "      <th>ca_2</th>\n",
              "      <th>ca_3</th>\n",
              "      <th>ca_4</th>\n",
              "      <th>thal_0</th>\n",
              "      <th>thal_1</th>\n",
              "      <th>thal_2</th>\n",
              "      <th>thal_3</th>\n",
              "    </tr>\n",
              "  </thead>\n",
              "  <tbody>\n",
              "    <tr>\n",
              "      <th>0</th>\n",
              "      <td>63</td>\n",
              "      <td>1</td>\n",
              "      <td>0.725</td>\n",
              "      <td>0.413121</td>\n",
              "      <td>0.265957</td>\n",
              "      <td>2.3</td>\n",
              "      <td>1</td>\n",
              "      <td>0</td>\n",
              "      <td>0</td>\n",
              "      <td>0</td>\n",
              "      <td>1</td>\n",
              "      <td>0</td>\n",
              "      <td>1</td>\n",
              "      <td>1</td>\n",
              "      <td>0</td>\n",
              "      <td>0</td>\n",
              "      <td>1</td>\n",
              "      <td>0</td>\n",
              "      <td>1</td>\n",
              "      <td>0</td>\n",
              "      <td>0</td>\n",
              "      <td>1</td>\n",
              "      <td>0</td>\n",
              "      <td>0</td>\n",
              "      <td>0</td>\n",
              "      <td>0</td>\n",
              "      <td>0</td>\n",
              "      <td>1</td>\n",
              "      <td>0</td>\n",
              "      <td>0</td>\n",
              "    </tr>\n",
              "    <tr>\n",
              "      <th>1</th>\n",
              "      <td>37</td>\n",
              "      <td>1</td>\n",
              "      <td>0.650</td>\n",
              "      <td>0.443262</td>\n",
              "      <td>0.331560</td>\n",
              "      <td>3.5</td>\n",
              "      <td>1</td>\n",
              "      <td>0</td>\n",
              "      <td>0</td>\n",
              "      <td>1</td>\n",
              "      <td>0</td>\n",
              "      <td>1</td>\n",
              "      <td>0</td>\n",
              "      <td>0</td>\n",
              "      <td>1</td>\n",
              "      <td>0</td>\n",
              "      <td>1</td>\n",
              "      <td>0</td>\n",
              "      <td>1</td>\n",
              "      <td>0</td>\n",
              "      <td>0</td>\n",
              "      <td>1</td>\n",
              "      <td>0</td>\n",
              "      <td>0</td>\n",
              "      <td>0</td>\n",
              "      <td>0</td>\n",
              "      <td>0</td>\n",
              "      <td>0</td>\n",
              "      <td>1</td>\n",
              "      <td>0</td>\n",
              "    </tr>\n",
              "    <tr>\n",
              "      <th>2</th>\n",
              "      <td>41</td>\n",
              "      <td>0</td>\n",
              "      <td>0.650</td>\n",
              "      <td>0.361702</td>\n",
              "      <td>0.304965</td>\n",
              "      <td>1.4</td>\n",
              "      <td>1</td>\n",
              "      <td>0</td>\n",
              "      <td>1</td>\n",
              "      <td>0</td>\n",
              "      <td>0</td>\n",
              "      <td>1</td>\n",
              "      <td>0</td>\n",
              "      <td>1</td>\n",
              "      <td>0</td>\n",
              "      <td>0</td>\n",
              "      <td>1</td>\n",
              "      <td>0</td>\n",
              "      <td>0</td>\n",
              "      <td>0</td>\n",
              "      <td>1</td>\n",
              "      <td>1</td>\n",
              "      <td>0</td>\n",
              "      <td>0</td>\n",
              "      <td>0</td>\n",
              "      <td>0</td>\n",
              "      <td>0</td>\n",
              "      <td>0</td>\n",
              "      <td>1</td>\n",
              "      <td>0</td>\n",
              "    </tr>\n",
              "    <tr>\n",
              "      <th>3</th>\n",
              "      <td>56</td>\n",
              "      <td>1</td>\n",
              "      <td>0.600</td>\n",
              "      <td>0.418440</td>\n",
              "      <td>0.315603</td>\n",
              "      <td>0.8</td>\n",
              "      <td>1</td>\n",
              "      <td>0</td>\n",
              "      <td>1</td>\n",
              "      <td>0</td>\n",
              "      <td>0</td>\n",
              "      <td>1</td>\n",
              "      <td>0</td>\n",
              "      <td>0</td>\n",
              "      <td>1</td>\n",
              "      <td>0</td>\n",
              "      <td>1</td>\n",
              "      <td>0</td>\n",
              "      <td>0</td>\n",
              "      <td>0</td>\n",
              "      <td>1</td>\n",
              "      <td>1</td>\n",
              "      <td>0</td>\n",
              "      <td>0</td>\n",
              "      <td>0</td>\n",
              "      <td>0</td>\n",
              "      <td>0</td>\n",
              "      <td>0</td>\n",
              "      <td>1</td>\n",
              "      <td>0</td>\n",
              "    </tr>\n",
              "    <tr>\n",
              "      <th>4</th>\n",
              "      <td>57</td>\n",
              "      <td>0</td>\n",
              "      <td>0.600</td>\n",
              "      <td>0.627660</td>\n",
              "      <td>0.289007</td>\n",
              "      <td>0.6</td>\n",
              "      <td>1</td>\n",
              "      <td>1</td>\n",
              "      <td>0</td>\n",
              "      <td>0</td>\n",
              "      <td>0</td>\n",
              "      <td>1</td>\n",
              "      <td>0</td>\n",
              "      <td>0</td>\n",
              "      <td>1</td>\n",
              "      <td>0</td>\n",
              "      <td>0</td>\n",
              "      <td>1</td>\n",
              "      <td>0</td>\n",
              "      <td>0</td>\n",
              "      <td>1</td>\n",
              "      <td>1</td>\n",
              "      <td>0</td>\n",
              "      <td>0</td>\n",
              "      <td>0</td>\n",
              "      <td>0</td>\n",
              "      <td>0</td>\n",
              "      <td>0</td>\n",
              "      <td>1</td>\n",
              "      <td>0</td>\n",
              "    </tr>\n",
              "  </tbody>\n",
              "</table>\n",
              "</div>"
            ],
            "text/plain": [
              "   age  sex  trestbps      chol   thalach  ...  ca_4  thal_0  thal_1  thal_2  thal_3\n",
              "0   63    1     0.725  0.413121  0.265957  ...     0       0       1       0       0\n",
              "1   37    1     0.650  0.443262  0.331560  ...     0       0       0       1       0\n",
              "2   41    0     0.650  0.361702  0.304965  ...     0       0       0       1       0\n",
              "3   56    1     0.600  0.418440  0.315603  ...     0       0       0       1       0\n",
              "4   57    0     0.600  0.627660  0.289007  ...     0       0       0       1       0\n",
              "\n",
              "[5 rows x 30 columns]"
            ]
          },
          "metadata": {
            "tags": []
          },
          "execution_count": 19
        }
      ]
    },
    {
      "cell_type": "code",
      "metadata": {
        "colab": {
          "base_uri": "https://localhost:8080/",
          "height": 191
        },
        "id": "A8GXgF6Tjyvr",
        "outputId": "73477aa3-70db-4571-f3ed-35eed59bc7cc"
      },
      "source": [
        "df.head(5)"
      ],
      "execution_count": 20,
      "outputs": [
        {
          "output_type": "execute_result",
          "data": {
            "text/html": [
              "<div>\n",
              "<style scoped>\n",
              "    .dataframe tbody tr th:only-of-type {\n",
              "        vertical-align: middle;\n",
              "    }\n",
              "\n",
              "    .dataframe tbody tr th {\n",
              "        vertical-align: top;\n",
              "    }\n",
              "\n",
              "    .dataframe thead th {\n",
              "        text-align: right;\n",
              "    }\n",
              "</style>\n",
              "<table border=\"1\" class=\"dataframe\">\n",
              "  <thead>\n",
              "    <tr style=\"text-align: right;\">\n",
              "      <th></th>\n",
              "      <th>age</th>\n",
              "      <th>sex</th>\n",
              "      <th>cp</th>\n",
              "      <th>trestbps</th>\n",
              "      <th>chol</th>\n",
              "      <th>fbs</th>\n",
              "      <th>restecg</th>\n",
              "      <th>thalach</th>\n",
              "      <th>exang</th>\n",
              "      <th>oldpeak</th>\n",
              "      <th>slope</th>\n",
              "      <th>ca</th>\n",
              "      <th>thal</th>\n",
              "      <th>target</th>\n",
              "    </tr>\n",
              "  </thead>\n",
              "  <tbody>\n",
              "    <tr>\n",
              "      <th>0</th>\n",
              "      <td>63</td>\n",
              "      <td>1</td>\n",
              "      <td>3</td>\n",
              "      <td>145</td>\n",
              "      <td>233</td>\n",
              "      <td>1</td>\n",
              "      <td>0</td>\n",
              "      <td>150</td>\n",
              "      <td>0</td>\n",
              "      <td>2.3</td>\n",
              "      <td>0</td>\n",
              "      <td>0</td>\n",
              "      <td>1</td>\n",
              "      <td>1</td>\n",
              "    </tr>\n",
              "    <tr>\n",
              "      <th>1</th>\n",
              "      <td>37</td>\n",
              "      <td>1</td>\n",
              "      <td>2</td>\n",
              "      <td>130</td>\n",
              "      <td>250</td>\n",
              "      <td>0</td>\n",
              "      <td>1</td>\n",
              "      <td>187</td>\n",
              "      <td>0</td>\n",
              "      <td>3.5</td>\n",
              "      <td>0</td>\n",
              "      <td>0</td>\n",
              "      <td>2</td>\n",
              "      <td>1</td>\n",
              "    </tr>\n",
              "    <tr>\n",
              "      <th>2</th>\n",
              "      <td>41</td>\n",
              "      <td>0</td>\n",
              "      <td>1</td>\n",
              "      <td>130</td>\n",
              "      <td>204</td>\n",
              "      <td>0</td>\n",
              "      <td>0</td>\n",
              "      <td>172</td>\n",
              "      <td>0</td>\n",
              "      <td>1.4</td>\n",
              "      <td>2</td>\n",
              "      <td>0</td>\n",
              "      <td>2</td>\n",
              "      <td>1</td>\n",
              "    </tr>\n",
              "    <tr>\n",
              "      <th>3</th>\n",
              "      <td>56</td>\n",
              "      <td>1</td>\n",
              "      <td>1</td>\n",
              "      <td>120</td>\n",
              "      <td>236</td>\n",
              "      <td>0</td>\n",
              "      <td>1</td>\n",
              "      <td>178</td>\n",
              "      <td>0</td>\n",
              "      <td>0.8</td>\n",
              "      <td>2</td>\n",
              "      <td>0</td>\n",
              "      <td>2</td>\n",
              "      <td>1</td>\n",
              "    </tr>\n",
              "    <tr>\n",
              "      <th>4</th>\n",
              "      <td>57</td>\n",
              "      <td>0</td>\n",
              "      <td>0</td>\n",
              "      <td>120</td>\n",
              "      <td>354</td>\n",
              "      <td>0</td>\n",
              "      <td>1</td>\n",
              "      <td>163</td>\n",
              "      <td>1</td>\n",
              "      <td>0.6</td>\n",
              "      <td>2</td>\n",
              "      <td>0</td>\n",
              "      <td>2</td>\n",
              "      <td>1</td>\n",
              "    </tr>\n",
              "  </tbody>\n",
              "</table>\n",
              "</div>"
            ],
            "text/plain": [
              "   age  sex  cp  trestbps  chol  fbs  ...  exang  oldpeak  slope  ca  thal  target\n",
              "0   63    1   3       145   233    1  ...      0      2.3      0   0     1       1\n",
              "1   37    1   2       130   250    0  ...      0      3.5      0   0     2       1\n",
              "2   41    0   1       130   204    0  ...      0      1.4      2   0     2       1\n",
              "3   56    1   1       120   236    0  ...      0      0.8      2   0     2       1\n",
              "4   57    0   0       120   354    0  ...      1      0.6      2   0     2       1\n",
              "\n",
              "[5 rows x 14 columns]"
            ]
          },
          "metadata": {
            "tags": []
          },
          "execution_count": 20
        }
      ]
    },
    {
      "cell_type": "code",
      "metadata": {
        "id": "b7sVfq12jeJV"
      },
      "source": [
        "data2=data.drop(['cp_0','fbs_0','restecg_0','exang_0','slope_0','ca_0','thal_0'],axis=1)"
      ],
      "execution_count": 21,
      "outputs": []
    },
    {
      "cell_type": "code",
      "metadata": {
        "id": "h7SRr2yXklAZ"
      },
      "source": [
        "X=data2.drop(['target','age'],axis=1)\n",
        "y=data2['target']\n",
        "kfold=KFold(n_splits=5)\n",
        "skfold=StratifiedKFold(n_splits=5,shuffle=True)\n",
        "ss=ShuffleSplit(n_splits=8,train_size=.4,test_size=.3)\n",
        "rs=RepeatedStratifiedKFold(n_splits=5,n_repeats=10)"
      ],
      "execution_count": 22,
      "outputs": []
    },
    {
      "cell_type": "code",
      "metadata": {
        "colab": {
          "base_uri": "https://localhost:8080/"
        },
        "id": "0LJxGli7mpD_",
        "outputId": "6df62b5d-a3ac-4134-84b2-b2a0d2e9af51"
      },
      "source": [
        "print(\"KFold: \",cross_val_score(KNeighborsClassifier(),X,y,cv=kfold))\n",
        "print(\"skfold: \",cross_val_score(KNeighborsClassifier(),X,y,cv=skfold))\n",
        "print(\"ShuffleSplit: \",cross_val_score(KNeighborsClassifier(),X,y,cv=ss))\n",
        "print(\"RepeatedStratifiedKFold: \",cross_val_score(KNeighborsClassifier(),X,y,cv=rs))"
      ],
      "execution_count": 23,
      "outputs": [
        {
          "output_type": "stream",
          "text": [
            "KFold:  [0.78688525 0.70491803 0.85245902 0.7        0.58333333]\n",
            "skfold:  [0.85245902 0.73770492 0.7704918  0.88333333 0.83333333]\n",
            "ShuffleSplit:  [0.86813187 0.79120879 0.84615385 0.82417582 0.73626374 0.8021978\n",
            " 0.81318681 0.79120879]\n",
            "RepeatedStratifiedKFold:  [0.80327869 0.85245902 0.80327869 0.85       0.8        0.7704918\n",
            " 0.85245902 0.78688525 0.83333333 0.85       0.81967213 0.85245902\n",
            " 0.85245902 0.81666667 0.8        0.85245902 0.85245902 0.83606557\n",
            " 0.75       0.81666667 0.80327869 0.83606557 0.7704918  0.85\n",
            " 0.83333333 0.83606557 0.81967213 0.80327869 0.81666667 0.83333333\n",
            " 0.75409836 0.7704918  0.81967213 0.71666667 0.86666667 0.83606557\n",
            " 0.7704918  0.81967213 0.76666667 0.83333333 0.81967213 0.81967213\n",
            " 0.86885246 0.76666667 0.78333333 0.83606557 0.75409836 0.7704918\n",
            " 0.88333333 0.83333333]\n"
          ],
          "name": "stdout"
        }
      ]
    },
    {
      "cell_type": "code",
      "metadata": {
        "id": "BHs1VMITk20X"
      },
      "source": [
        "cross_val_scores=[]\n",
        "X_train, X_test, y_train, y_test = train_test_split(X,y,stratify=y)\n",
        "\n",
        "for i in range(1,15,3):\n",
        "  model=KNeighborsClassifier(n_neighbors=i)\n",
        "  scores=cross_val_score(model, X_train,y_train,cv=10)\n",
        "  cross_val_scores.append(np.mean(scores))"
      ],
      "execution_count": 24,
      "outputs": []
    },
    {
      "cell_type": "code",
      "metadata": {
        "colab": {
          "base_uri": "https://localhost:8080/"
        },
        "id": "nRiXNcJylGnZ",
        "outputId": "8a153f6f-6b01-4762-a456-67871c6623eb"
      },
      "source": [
        "print(\"Best Score: \",np.max(cross_val_scores))"
      ],
      "execution_count": 25,
      "outputs": [
        {
          "output_type": "stream",
          "text": [
            "Best Score:  0.8019762845849803\n"
          ],
          "name": "stdout"
        }
      ]
    },
    {
      "cell_type": "code",
      "metadata": {
        "colab": {
          "base_uri": "https://localhost:8080/"
        },
        "id": "HS082-PrwPDq",
        "outputId": "6c2c5718-f51c-4e79-acdc-40c1551bc6a0"
      },
      "source": [
        "X_train, X_test, y_train, y_test = train_test_split(X,y,stratify=y)\n",
        "\n",
        "param_grid={'n_neighbors':np.arange(1,25,3)}\n",
        "\n",
        "gridSearch=GridSearchCV(KNeighborsClassifier(),param_grid,cv=10,return_train_score=True)\n",
        "\n",
        "gridSearch.fit(X_train,y_train)\n",
        "\n",
        "print(\"Best Score TRAIN: \",gridSearch.best_score_)\n",
        "print(\"Best Param: \",gridSearch.best_params_)\n",
        "print(\"Best Score Test: \",gridSearch.score(X_test,y_test))"
      ],
      "execution_count": 28,
      "outputs": [
        {
          "output_type": "stream",
          "text": [
            "Best Score TRAIN:  0.8335968379446639\n",
            "Best Param:  {'n_neighbors': 7}\n",
            "Best Score Test:  0.8289473684210527\n"
          ],
          "name": "stdout"
        }
      ]
    },
    {
      "cell_type": "code",
      "metadata": {
        "id": "j1cVcxkFyvX5"
      },
      "source": [
        "from sklearn.metrics import accuracy_score"
      ],
      "execution_count": 31,
      "outputs": []
    },
    {
      "cell_type": "code",
      "metadata": {
        "id": "Go9X3Azq09-M"
      },
      "source": [
        "param_grid = [{'n_neighbors': np.arange(1, 15, 1)}]"
      ],
      "execution_count": 41,
      "outputs": []
    },
    {
      "cell_type": "code",
      "metadata": {
        "colab": {
          "base_uri": "https://localhost:8080/"
        },
        "id": "XuEJPPKTzvUm",
        "outputId": "586f79bb-3365-4883-9ac5-9f13644d6add"
      },
      "source": [
        "kf = StratifiedKFold(n_splits=10,random_state=1,shuffle=True)\n",
        "i=1\n",
        "for train_index,test_index in kf.split(X,y):\n",
        "     print('\\n{} of kfold {}'.format(i,kf.n_splits))\n",
        "     xtr,xvl = X.loc[train_index],X.loc[test_index]\n",
        "     ytr,yvl = y[train_index],y[test_index]\n",
        "     model = GridSearchCV(KNeighborsClassifier(), param_grid, cv=10, scoring= 'f1',iid=True)\n",
        "     model.fit(xtr, ytr)\n",
        "     print (model.best_params_)\n",
        "     pred=model.predict(xvl)\n",
        "     print('accuracy_score',accuracy_score(yvl,pred))\n",
        "     i+=1"
      ],
      "execution_count": 42,
      "outputs": [
        {
          "output_type": "stream",
          "text": [
            "\n",
            "1 of kfold 10\n"
          ],
          "name": "stdout"
        },
        {
          "output_type": "stream",
          "text": [
            "/usr/local/lib/python3.7/dist-packages/sklearn/model_selection/_search.py:823: FutureWarning: The parameter 'iid' is deprecated in 0.22 and will be removed in 0.24.\n",
            "  \"removed in 0.24.\", FutureWarning\n"
          ],
          "name": "stderr"
        },
        {
          "output_type": "stream",
          "text": [
            "{'n_neighbors': 7}\n",
            "accuracy_score 0.8387096774193549\n",
            "\n",
            "2 of kfold 10\n"
          ],
          "name": "stdout"
        },
        {
          "output_type": "stream",
          "text": [
            "/usr/local/lib/python3.7/dist-packages/sklearn/model_selection/_search.py:823: FutureWarning: The parameter 'iid' is deprecated in 0.22 and will be removed in 0.24.\n",
            "  \"removed in 0.24.\", FutureWarning\n"
          ],
          "name": "stderr"
        },
        {
          "output_type": "stream",
          "text": [
            "{'n_neighbors': 5}\n",
            "accuracy_score 0.7096774193548387\n",
            "\n",
            "3 of kfold 10\n"
          ],
          "name": "stdout"
        },
        {
          "output_type": "stream",
          "text": [
            "/usr/local/lib/python3.7/dist-packages/sklearn/model_selection/_search.py:823: FutureWarning: The parameter 'iid' is deprecated in 0.22 and will be removed in 0.24.\n",
            "  \"removed in 0.24.\", FutureWarning\n"
          ],
          "name": "stderr"
        },
        {
          "output_type": "stream",
          "text": [
            "{'n_neighbors': 13}\n",
            "accuracy_score 0.7741935483870968\n",
            "\n",
            "4 of kfold 10\n"
          ],
          "name": "stdout"
        },
        {
          "output_type": "stream",
          "text": [
            "/usr/local/lib/python3.7/dist-packages/sklearn/model_selection/_search.py:823: FutureWarning: The parameter 'iid' is deprecated in 0.22 and will be removed in 0.24.\n",
            "  \"removed in 0.24.\", FutureWarning\n"
          ],
          "name": "stderr"
        },
        {
          "output_type": "stream",
          "text": [
            "{'n_neighbors': 13}\n",
            "accuracy_score 0.7333333333333333\n",
            "\n",
            "5 of kfold 10\n"
          ],
          "name": "stdout"
        },
        {
          "output_type": "stream",
          "text": [
            "/usr/local/lib/python3.7/dist-packages/sklearn/model_selection/_search.py:823: FutureWarning: The parameter 'iid' is deprecated in 0.22 and will be removed in 0.24.\n",
            "  \"removed in 0.24.\", FutureWarning\n"
          ],
          "name": "stderr"
        },
        {
          "output_type": "stream",
          "text": [
            "{'n_neighbors': 7}\n",
            "accuracy_score 0.8\n",
            "\n",
            "6 of kfold 10\n"
          ],
          "name": "stdout"
        },
        {
          "output_type": "stream",
          "text": [
            "/usr/local/lib/python3.7/dist-packages/sklearn/model_selection/_search.py:823: FutureWarning: The parameter 'iid' is deprecated in 0.22 and will be removed in 0.24.\n",
            "  \"removed in 0.24.\", FutureWarning\n"
          ],
          "name": "stderr"
        },
        {
          "output_type": "stream",
          "text": [
            "{'n_neighbors': 7}\n",
            "accuracy_score 0.8666666666666667\n",
            "\n",
            "7 of kfold 10\n"
          ],
          "name": "stdout"
        },
        {
          "output_type": "stream",
          "text": [
            "/usr/local/lib/python3.7/dist-packages/sklearn/model_selection/_search.py:823: FutureWarning: The parameter 'iid' is deprecated in 0.22 and will be removed in 0.24.\n",
            "  \"removed in 0.24.\", FutureWarning\n"
          ],
          "name": "stderr"
        },
        {
          "output_type": "stream",
          "text": [
            "{'n_neighbors': 11}\n",
            "accuracy_score 0.7666666666666667\n",
            "\n",
            "8 of kfold 10\n"
          ],
          "name": "stdout"
        },
        {
          "output_type": "stream",
          "text": [
            "/usr/local/lib/python3.7/dist-packages/sklearn/model_selection/_search.py:823: FutureWarning: The parameter 'iid' is deprecated in 0.22 and will be removed in 0.24.\n",
            "  \"removed in 0.24.\", FutureWarning\n"
          ],
          "name": "stderr"
        },
        {
          "output_type": "stream",
          "text": [
            "{'n_neighbors': 6}\n",
            "accuracy_score 0.7666666666666667\n",
            "\n",
            "9 of kfold 10\n"
          ],
          "name": "stdout"
        },
        {
          "output_type": "stream",
          "text": [
            "/usr/local/lib/python3.7/dist-packages/sklearn/model_selection/_search.py:823: FutureWarning: The parameter 'iid' is deprecated in 0.22 and will be removed in 0.24.\n",
            "  \"removed in 0.24.\", FutureWarning\n"
          ],
          "name": "stderr"
        },
        {
          "output_type": "stream",
          "text": [
            "{'n_neighbors': 7}\n",
            "accuracy_score 0.8666666666666667\n",
            "\n",
            "10 of kfold 10\n",
            "{'n_neighbors': 7}\n",
            "accuracy_score 0.7666666666666667\n"
          ],
          "name": "stdout"
        },
        {
          "output_type": "stream",
          "text": [
            "/usr/local/lib/python3.7/dist-packages/sklearn/model_selection/_search.py:823: FutureWarning: The parameter 'iid' is deprecated in 0.22 and will be removed in 0.24.\n",
            "  \"removed in 0.24.\", FutureWarning\n"
          ],
          "name": "stderr"
        }
      ]
    },
    {
      "cell_type": "markdown",
      "metadata": {
        "id": "DF1w4S7g1gYs"
      },
      "source": [
        "# So we got upto 86.6% of accuracy using proper parameter\n"
      ]
    },
    {
      "cell_type": "markdown",
      "metadata": {
        "id": "FK_9JD4o1nNE"
      },
      "source": [
        "# Let's try out more robust model \"XGBClassifier\""
      ]
    },
    {
      "cell_type": "code",
      "metadata": {
        "id": "Fu7QPS2qy3kW"
      },
      "source": [
        "param_grid = [{'min_child_weight': np.arange(0.1, 10.1, 0.1)}]"
      ],
      "execution_count": 35,
      "outputs": []
    },
    {
      "cell_type": "code",
      "metadata": {
        "colab": {
          "base_uri": "https://localhost:8080/"
        },
        "id": "oss6lfEssNOh",
        "outputId": "44a6b7a3-7767-4edd-8d1d-a34b0864dbdf"
      },
      "source": [
        "kf = StratifiedKFold(n_splits=10,random_state=1,shuffle=True)\n",
        "i=1\n",
        "for train_index,test_index in kf.split(X,y):\n",
        "     print('\\n{} of kfold {}'.format(i,kf.n_splits))\n",
        "     xtr,xvl = X.loc[train_index],X.loc[test_index]\n",
        "     ytr,yvl = y[train_index],y[test_index]\n",
        "     model = GridSearchCV(XGBClassifier(), param_grid, cv=10, scoring= 'f1',iid=True)\n",
        "     model.fit(xtr, ytr)\n",
        "     print (model.best_params_)\n",
        "     pred=model.predict(xvl)\n",
        "     print('accuracy_score',accuracy_score(yvl,pred))\n",
        "     i+=1"
      ],
      "execution_count": 36,
      "outputs": [
        {
          "output_type": "stream",
          "text": [
            "\n",
            "1 of kfold 10\n"
          ],
          "name": "stdout"
        },
        {
          "output_type": "stream",
          "text": [
            "/usr/local/lib/python3.7/dist-packages/sklearn/model_selection/_search.py:823: FutureWarning: The parameter 'iid' is deprecated in 0.22 and will be removed in 0.24.\n",
            "  \"removed in 0.24.\", FutureWarning\n"
          ],
          "name": "stderr"
        },
        {
          "output_type": "stream",
          "text": [
            "{'min_child_weight': 3.8000000000000003}\n",
            "accuracy_score 0.8709677419354839\n",
            "\n",
            "2 of kfold 10\n"
          ],
          "name": "stdout"
        },
        {
          "output_type": "stream",
          "text": [
            "/usr/local/lib/python3.7/dist-packages/sklearn/model_selection/_search.py:823: FutureWarning: The parameter 'iid' is deprecated in 0.22 and will be removed in 0.24.\n",
            "  \"removed in 0.24.\", FutureWarning\n"
          ],
          "name": "stderr"
        },
        {
          "output_type": "stream",
          "text": [
            "{'min_child_weight': 5.0}\n",
            "accuracy_score 0.7419354838709677\n",
            "\n",
            "3 of kfold 10\n"
          ],
          "name": "stdout"
        },
        {
          "output_type": "stream",
          "text": [
            "/usr/local/lib/python3.7/dist-packages/sklearn/model_selection/_search.py:823: FutureWarning: The parameter 'iid' is deprecated in 0.22 and will be removed in 0.24.\n",
            "  \"removed in 0.24.\", FutureWarning\n"
          ],
          "name": "stderr"
        },
        {
          "output_type": "stream",
          "text": [
            "{'min_child_weight': 4.6}\n",
            "accuracy_score 0.7741935483870968\n",
            "\n",
            "4 of kfold 10\n"
          ],
          "name": "stdout"
        },
        {
          "output_type": "stream",
          "text": [
            "/usr/local/lib/python3.7/dist-packages/sklearn/model_selection/_search.py:823: FutureWarning: The parameter 'iid' is deprecated in 0.22 and will be removed in 0.24.\n",
            "  \"removed in 0.24.\", FutureWarning\n"
          ],
          "name": "stderr"
        },
        {
          "output_type": "stream",
          "text": [
            "{'min_child_weight': 1.7000000000000002}\n",
            "accuracy_score 0.8\n",
            "\n",
            "5 of kfold 10\n"
          ],
          "name": "stdout"
        },
        {
          "output_type": "stream",
          "text": [
            "/usr/local/lib/python3.7/dist-packages/sklearn/model_selection/_search.py:823: FutureWarning: The parameter 'iid' is deprecated in 0.22 and will be removed in 0.24.\n",
            "  \"removed in 0.24.\", FutureWarning\n"
          ],
          "name": "stderr"
        },
        {
          "output_type": "stream",
          "text": [
            "{'min_child_weight': 1.6}\n",
            "accuracy_score 0.9\n",
            "\n",
            "6 of kfold 10\n"
          ],
          "name": "stdout"
        },
        {
          "output_type": "stream",
          "text": [
            "/usr/local/lib/python3.7/dist-packages/sklearn/model_selection/_search.py:823: FutureWarning: The parameter 'iid' is deprecated in 0.22 and will be removed in 0.24.\n",
            "  \"removed in 0.24.\", FutureWarning\n"
          ],
          "name": "stderr"
        },
        {
          "output_type": "stream",
          "text": [
            "{'min_child_weight': 1.4000000000000001}\n",
            "accuracy_score 0.8333333333333334\n",
            "\n",
            "7 of kfold 10\n"
          ],
          "name": "stdout"
        },
        {
          "output_type": "stream",
          "text": [
            "/usr/local/lib/python3.7/dist-packages/sklearn/model_selection/_search.py:823: FutureWarning: The parameter 'iid' is deprecated in 0.22 and will be removed in 0.24.\n",
            "  \"removed in 0.24.\", FutureWarning\n"
          ],
          "name": "stderr"
        },
        {
          "output_type": "stream",
          "text": [
            "{'min_child_weight': 4.5}\n",
            "accuracy_score 0.8\n",
            "\n",
            "8 of kfold 10\n"
          ],
          "name": "stdout"
        },
        {
          "output_type": "stream",
          "text": [
            "/usr/local/lib/python3.7/dist-packages/sklearn/model_selection/_search.py:823: FutureWarning: The parameter 'iid' is deprecated in 0.22 and will be removed in 0.24.\n",
            "  \"removed in 0.24.\", FutureWarning\n"
          ],
          "name": "stderr"
        },
        {
          "output_type": "stream",
          "text": [
            "{'min_child_weight': 4.1}\n",
            "accuracy_score 0.7333333333333333\n",
            "\n",
            "9 of kfold 10\n"
          ],
          "name": "stdout"
        },
        {
          "output_type": "stream",
          "text": [
            "/usr/local/lib/python3.7/dist-packages/sklearn/model_selection/_search.py:823: FutureWarning: The parameter 'iid' is deprecated in 0.22 and will be removed in 0.24.\n",
            "  \"removed in 0.24.\", FutureWarning\n"
          ],
          "name": "stderr"
        },
        {
          "output_type": "stream",
          "text": [
            "{'min_child_weight': 0.9}\n",
            "accuracy_score 0.8666666666666667\n",
            "\n",
            "10 of kfold 10\n",
            "{'min_child_weight': 3.2}\n",
            "accuracy_score 0.7666666666666667\n"
          ],
          "name": "stdout"
        },
        {
          "output_type": "stream",
          "text": [
            "/usr/local/lib/python3.7/dist-packages/sklearn/model_selection/_search.py:823: FutureWarning: The parameter 'iid' is deprecated in 0.22 and will be removed in 0.24.\n",
            "  \"removed in 0.24.\", FutureWarning\n"
          ],
          "name": "stderr"
        }
      ]
    },
    {
      "cell_type": "markdown",
      "metadata": {
        "id": "COIzgm1E1nJj"
      },
      "source": [
        "# We got around 87% to 90% accuracy using proper parameter"
      ]
    },
    {
      "cell_type": "code",
      "metadata": {
        "id": "NDTUurqI2GQs"
      },
      "source": [
        ""
      ],
      "execution_count": null,
      "outputs": []
    }
  ]
}